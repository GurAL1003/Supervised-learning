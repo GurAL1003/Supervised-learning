{
 "cells": [
  {
   "cell_type": "markdown",
   "metadata": {
    "toc": true
   },
   "source": [
    "<h1>Содержание<span class=\"tocSkip\"></span></h1>\n",
    "<div class=\"toc\"><ul class=\"toc-item\"><li><span><a href=\"#Подготовка-данных\" data-toc-modified-id=\"Подготовка-данных-1\"><span class=\"toc-item-num\">1&nbsp;&nbsp;</span>Подготовка данных</a></span><ul class=\"toc-item\"><li><span><a href=\"#Изучение-данных-из-файла\" data-toc-modified-id=\"Изучение-данных-из-файла-1.1\"><span class=\"toc-item-num\">1.1&nbsp;&nbsp;</span>Изучение данных из файла</a></span></li><li><span><a href=\"#Проверка-на-наличие-явных-дубликатов\" data-toc-modified-id=\"Проверка-на-наличие-явных-дубликатов-1.2\"><span class=\"toc-item-num\">1.2&nbsp;&nbsp;</span>Проверка на наличие явных дубликатов</a></span></li><li><span><a href=\"#Обработка-пропусков\" data-toc-modified-id=\"Обработка-пропусков-1.3\"><span class=\"toc-item-num\">1.3&nbsp;&nbsp;</span>Обработка пропусков</a></span></li><li><span><a href=\"#Вывод\" data-toc-modified-id=\"Вывод-1.4\"><span class=\"toc-item-num\">1.4&nbsp;&nbsp;</span>Вывод</a></span></li></ul></li><li><span><a href=\"#Исследование-задачи\" data-toc-modified-id=\"Исследование-задачи-2\"><span class=\"toc-item-num\">2&nbsp;&nbsp;</span>Исследование задачи</a></span><ul class=\"toc-item\"><li><span><a href=\"#Преобразование-данных\" data-toc-modified-id=\"Преобразование-данных-2.1\"><span class=\"toc-item-num\">2.1&nbsp;&nbsp;</span>Преобразование данных</a></span></li><li><span><a href=\"#Первичное-обучение-моделей\" data-toc-modified-id=\"Первичное-обучение-моделей-2.2\"><span class=\"toc-item-num\">2.2&nbsp;&nbsp;</span>Первичное обучение моделей</a></span></li><li><span><a href=\"#Проверка-адекватности\" data-toc-modified-id=\"Проверка-адекватности-2.3\"><span class=\"toc-item-num\">2.3&nbsp;&nbsp;</span>Проверка адекватности</a></span></li><li><span><a href=\"#Матрица-ошибок,-полнота,-точность,-F1-мера\" data-toc-modified-id=\"Матрица-ошибок,-полнота,-точность,-F1-мера-2.4\"><span class=\"toc-item-num\">2.4&nbsp;&nbsp;</span>Матрица ошибок, полнота, точность, F1-мера</a></span><ul class=\"toc-item\"><li><span><a href=\"#Дерево-решений\" data-toc-modified-id=\"Дерево-решений-2.4.1\"><span class=\"toc-item-num\">2.4.1&nbsp;&nbsp;</span>Дерево решений</a></span></li><li><span><a href=\"#Случайный-лес\" data-toc-modified-id=\"Случайный-лес-2.4.2\"><span class=\"toc-item-num\">2.4.2&nbsp;&nbsp;</span>Случайный лес</a></span></li><li><span><a href=\"#Логистическая-регрессия\" data-toc-modified-id=\"Логистическая-регрессия-2.4.3\"><span class=\"toc-item-num\">2.4.3&nbsp;&nbsp;</span>Логистическая регрессия</a></span></li><li><span><a href=\"#Вывод\" data-toc-modified-id=\"Вывод-2.4.4\"><span class=\"toc-item-num\">2.4.4&nbsp;&nbsp;</span>Вывод</a></span></li></ul></li></ul></li><li><span><a href=\"#Борьба-с-дисбалансом\" data-toc-modified-id=\"Борьба-с-дисбалансом-3\"><span class=\"toc-item-num\">3&nbsp;&nbsp;</span>Борьба с дисбалансом</a></span><ul class=\"toc-item\"><li><span><a href=\"#Борьба-с-дисбалансом\" data-toc-modified-id=\"Борьба-с-дисбалансом-3.1\"><span class=\"toc-item-num\">3.1&nbsp;&nbsp;</span>Борьба с дисбалансом</a></span></li><li><span><a href=\"#Обучение-моделей-на-сбаланированной-выборке\" data-toc-modified-id=\"Обучение-моделей-на-сбаланированной-выборке-3.2\"><span class=\"toc-item-num\">3.2&nbsp;&nbsp;</span>Обучение моделей на сбаланированной выборке</a></span></li><li><span><a href=\"#Улучшение-модели-случайного-леса\" data-toc-modified-id=\"Улучшение-модели-случайного-леса-3.3\"><span class=\"toc-item-num\">3.3&nbsp;&nbsp;</span>Улучшение модели случайного леса</a></span></li><li><span><a href=\"#Вывод\" data-toc-modified-id=\"Вывод-3.4\"><span class=\"toc-item-num\">3.4&nbsp;&nbsp;</span>Вывод</a></span></li></ul></li><li><span><a href=\"#Тестирование-модели\" data-toc-modified-id=\"Тестирование-модели-4\"><span class=\"toc-item-num\">4&nbsp;&nbsp;</span>Тестирование модели</a></span><ul class=\"toc-item\"><li><span><a href=\"#Проверка-на-адекватность-тестовой-модели\" data-toc-modified-id=\"Проверка-на-адекватность-тестовой-модели-4.1\"><span class=\"toc-item-num\">4.1&nbsp;&nbsp;</span>Проверка на адекватность тестовой модели</a></span></li></ul></li><li><span><a href=\"#Вывод\" data-toc-modified-id=\"Вывод-5\"><span class=\"toc-item-num\">5&nbsp;&nbsp;</span>Вывод</a></span></li><li><span><a href=\"#Чек-лист-готовности-проекта\" data-toc-modified-id=\"Чек-лист-готовности-проекта-6\"><span class=\"toc-item-num\">6&nbsp;&nbsp;</span>Чек-лист готовности проекта</a></span></li></ul></div>"
   ]
  },
  {
   "cell_type": "markdown",
   "metadata": {},
   "source": [
    "# Отток клиентов"
   ]
  },
  {
   "cell_type": "markdown",
   "metadata": {},
   "source": [
    "Из «Бета-Банка» стали уходить клиенты. Каждый месяц. Немного, но заметно. Банковские маркетологи посчитали: сохранять текущих клиентов дешевле, чем привлекать новых.\n",
    "\n",
    "Нужно спрогнозировать, уйдёт клиент из банка в ближайшее время или нет. Вам предоставлены исторические данные о поведении клиентов и расторжении договоров с банком. \n",
    "\n",
    "Постройте модель с предельно большим значением *F1*-меры. Чтобы сдать проект успешно, нужно довести метрику до 0.59. Проверьте *F1*-меру на тестовой выборке самостоятельно.\n",
    "\n",
    "Дополнительно измеряйте *AUC-ROC*, сравнивайте её значение с *F1*-мерой.\n",
    "\n",
    "Источник данных: [https://www.kaggle.com/barelydedicated/bank-customer-churn-modeling](https://www.kaggle.com/barelydedicated/bank-customer-churn-modeling)"
   ]
  },
  {
   "cell_type": "markdown",
   "metadata": {},
   "source": [
    "## Подготовка данных"
   ]
  },
  {
   "cell_type": "code",
   "execution_count": 1,
   "metadata": {},
   "outputs": [],
   "source": [
    "import pandas as pd\n",
    "import math\n",
    "import numpy as np\n",
    "from scipy import stats as st\n",
    "from IPython.display import display\n",
    "import matplotlib.pyplot as plt\n",
    "import matplotlib.patches as patches\n",
    "from pymystem3 import Mystem\n",
    "import seaborn as sns\n",
    "import random\n",
    "\n",
    "from sklearn.utils import shuffle\n",
    "from sklearn.ensemble import RandomForestClassifier\n",
    "from sklearn.tree import DecisionTreeClassifier\n",
    "from sklearn.linear_model import LogisticRegression\n",
    "from sklearn.model_selection import train_test_split\n",
    "from sklearn.dummy import DummyClassifier\n",
    "from sklearn.preprocessing import StandardScaler\n",
    "\n",
    "\n",
    "from sklearn.metrics import accuracy_score\n",
    "from sklearn.metrics import confusion_matrix\n",
    "from sklearn.metrics import recall_score\n",
    "from sklearn.metrics import precision_score\n",
    "from sklearn.metrics import f1_score\n",
    "from sklearn.metrics import roc_auc_score\n",
    "from sklearn.metrics import roc_curve\n",
    "\n",
    "\n",
    "\n",
    "import warnings\n",
    "warnings.filterwarnings('ignore')\n",
    "\n",
    "pd.options.display.max_columns = None\n",
    "pd.options.display.max_rows = None\n",
    "pd.set_option('display.float_format', '{:.2f}'.format)\n",
    "pd.options.mode.chained_assignment = None "
   ]
  },
  {
   "cell_type": "markdown",
   "metadata": {},
   "source": [
    "### Изучение данных из файла"
   ]
  },
  {
   "cell_type": "code",
   "execution_count": 2,
   "metadata": {},
   "outputs": [],
   "source": [
    "data = pd.read_csv('/datasets/Churn.csv')"
   ]
  },
  {
   "cell_type": "code",
   "execution_count": 3,
   "metadata": {
    "scrolled": true
   },
   "outputs": [
    {
     "name": "stdout",
     "output_type": "stream",
     "text": [
      "<class 'pandas.core.frame.DataFrame'>\n",
      "RangeIndex: 10000 entries, 0 to 9999\n",
      "Data columns (total 14 columns):\n",
      " #   Column           Non-Null Count  Dtype  \n",
      "---  ------           --------------  -----  \n",
      " 0   RowNumber        10000 non-null  int64  \n",
      " 1   CustomerId       10000 non-null  int64  \n",
      " 2   Surname          10000 non-null  object \n",
      " 3   CreditScore      10000 non-null  int64  \n",
      " 4   Geography        10000 non-null  object \n",
      " 5   Gender           10000 non-null  object \n",
      " 6   Age              10000 non-null  int64  \n",
      " 7   Tenure           9091 non-null   float64\n",
      " 8   Balance          10000 non-null  float64\n",
      " 9   NumOfProducts    10000 non-null  int64  \n",
      " 10  HasCrCard        10000 non-null  int64  \n",
      " 11  IsActiveMember   10000 non-null  int64  \n",
      " 12  EstimatedSalary  10000 non-null  float64\n",
      " 13  Exited           10000 non-null  int64  \n",
      "dtypes: float64(3), int64(8), object(3)\n",
      "memory usage: 1.1+ MB\n"
     ]
    }
   ],
   "source": [
    "data.info()"
   ]
  },
  {
   "cell_type": "code",
   "execution_count": 4,
   "metadata": {},
   "outputs": [
    {
     "data": {
      "text/html": [
       "<div>\n",
       "<style scoped>\n",
       "    .dataframe tbody tr th:only-of-type {\n",
       "        vertical-align: middle;\n",
       "    }\n",
       "\n",
       "    .dataframe tbody tr th {\n",
       "        vertical-align: top;\n",
       "    }\n",
       "\n",
       "    .dataframe thead th {\n",
       "        text-align: right;\n",
       "    }\n",
       "</style>\n",
       "<table border=\"1\" class=\"dataframe\">\n",
       "  <thead>\n",
       "    <tr style=\"text-align: right;\">\n",
       "      <th></th>\n",
       "      <th>RowNumber</th>\n",
       "      <th>CustomerId</th>\n",
       "      <th>Surname</th>\n",
       "      <th>CreditScore</th>\n",
       "      <th>Geography</th>\n",
       "      <th>Gender</th>\n",
       "      <th>Age</th>\n",
       "      <th>Tenure</th>\n",
       "      <th>Balance</th>\n",
       "      <th>NumOfProducts</th>\n",
       "      <th>HasCrCard</th>\n",
       "      <th>IsActiveMember</th>\n",
       "      <th>EstimatedSalary</th>\n",
       "      <th>Exited</th>\n",
       "    </tr>\n",
       "  </thead>\n",
       "  <tbody>\n",
       "    <tr>\n",
       "      <th>2656</th>\n",
       "      <td>2657</td>\n",
       "      <td>15713267</td>\n",
       "      <td>Zimmer</td>\n",
       "      <td>779</td>\n",
       "      <td>Spain</td>\n",
       "      <td>Female</td>\n",
       "      <td>34</td>\n",
       "      <td>5.00</td>\n",
       "      <td>0.00</td>\n",
       "      <td>2</td>\n",
       "      <td>0</td>\n",
       "      <td>1</td>\n",
       "      <td>111676.63</td>\n",
       "      <td>0</td>\n",
       "    </tr>\n",
       "    <tr>\n",
       "      <th>445</th>\n",
       "      <td>446</td>\n",
       "      <td>15803406</td>\n",
       "      <td>Ross</td>\n",
       "      <td>748</td>\n",
       "      <td>France</td>\n",
       "      <td>Female</td>\n",
       "      <td>26</td>\n",
       "      <td>1.00</td>\n",
       "      <td>77780.29</td>\n",
       "      <td>1</td>\n",
       "      <td>0</td>\n",
       "      <td>1</td>\n",
       "      <td>183049.41</td>\n",
       "      <td>0</td>\n",
       "    </tr>\n",
       "    <tr>\n",
       "      <th>9505</th>\n",
       "      <td>9506</td>\n",
       "      <td>15571281</td>\n",
       "      <td>Ts'ao</td>\n",
       "      <td>651</td>\n",
       "      <td>France</td>\n",
       "      <td>Male</td>\n",
       "      <td>28</td>\n",
       "      <td>10.00</td>\n",
       "      <td>79562.98</td>\n",
       "      <td>1</td>\n",
       "      <td>1</td>\n",
       "      <td>1</td>\n",
       "      <td>74687.37</td>\n",
       "      <td>0</td>\n",
       "    </tr>\n",
       "    <tr>\n",
       "      <th>332</th>\n",
       "      <td>333</td>\n",
       "      <td>15702669</td>\n",
       "      <td>Faulkner</td>\n",
       "      <td>663</td>\n",
       "      <td>Germany</td>\n",
       "      <td>Male</td>\n",
       "      <td>44</td>\n",
       "      <td>2.00</td>\n",
       "      <td>117028.60</td>\n",
       "      <td>2</td>\n",
       "      <td>0</td>\n",
       "      <td>1</td>\n",
       "      <td>144680.18</td>\n",
       "      <td>0</td>\n",
       "    </tr>\n",
       "    <tr>\n",
       "      <th>4168</th>\n",
       "      <td>4169</td>\n",
       "      <td>15690796</td>\n",
       "      <td>Chambers</td>\n",
       "      <td>516</td>\n",
       "      <td>France</td>\n",
       "      <td>Male</td>\n",
       "      <td>37</td>\n",
       "      <td>8.00</td>\n",
       "      <td>0.00</td>\n",
       "      <td>1</td>\n",
       "      <td>1</td>\n",
       "      <td>0</td>\n",
       "      <td>101834.58</td>\n",
       "      <td>0</td>\n",
       "    </tr>\n",
       "    <tr>\n",
       "      <th>2364</th>\n",
       "      <td>2365</td>\n",
       "      <td>15796343</td>\n",
       "      <td>Bazhenov</td>\n",
       "      <td>707</td>\n",
       "      <td>France</td>\n",
       "      <td>Female</td>\n",
       "      <td>31</td>\n",
       "      <td>2.00</td>\n",
       "      <td>82787.93</td>\n",
       "      <td>2</td>\n",
       "      <td>0</td>\n",
       "      <td>0</td>\n",
       "      <td>91423.69</td>\n",
       "      <td>0</td>\n",
       "    </tr>\n",
       "    <tr>\n",
       "      <th>6097</th>\n",
       "      <td>6098</td>\n",
       "      <td>15615050</td>\n",
       "      <td>Savage</td>\n",
       "      <td>575</td>\n",
       "      <td>Germany</td>\n",
       "      <td>Male</td>\n",
       "      <td>47</td>\n",
       "      <td>9.00</td>\n",
       "      <td>107915.94</td>\n",
       "      <td>2</td>\n",
       "      <td>1</td>\n",
       "      <td>1</td>\n",
       "      <td>63452.18</td>\n",
       "      <td>1</td>\n",
       "    </tr>\n",
       "  </tbody>\n",
       "</table>\n",
       "</div>"
      ],
      "text/plain": [
       "      RowNumber  CustomerId   Surname  CreditScore Geography  Gender  Age  \\\n",
       "2656       2657    15713267    Zimmer          779     Spain  Female   34   \n",
       "445         446    15803406      Ross          748    France  Female   26   \n",
       "9505       9506    15571281     Ts'ao          651    France    Male   28   \n",
       "332         333    15702669  Faulkner          663   Germany    Male   44   \n",
       "4168       4169    15690796  Chambers          516    France    Male   37   \n",
       "2364       2365    15796343  Bazhenov          707    France  Female   31   \n",
       "6097       6098    15615050    Savage          575   Germany    Male   47   \n",
       "\n",
       "      Tenure   Balance  NumOfProducts  HasCrCard  IsActiveMember  \\\n",
       "2656    5.00      0.00              2          0               1   \n",
       "445     1.00  77780.29              1          0               1   \n",
       "9505   10.00  79562.98              1          1               1   \n",
       "332     2.00 117028.60              2          0               1   \n",
       "4168    8.00      0.00              1          1               0   \n",
       "2364    2.00  82787.93              2          0               0   \n",
       "6097    9.00 107915.94              2          1               1   \n",
       "\n",
       "      EstimatedSalary  Exited  \n",
       "2656        111676.63       0  \n",
       "445         183049.41       0  \n",
       "9505         74687.37       0  \n",
       "332         144680.18       0  \n",
       "4168        101834.58       0  \n",
       "2364         91423.69       0  \n",
       "6097         63452.18       1  "
      ]
     },
     "execution_count": 4,
     "metadata": {},
     "output_type": "execute_result"
    }
   ],
   "source": [
    "data.sample(7,random_state = 123)"
   ]
  },
  {
   "cell_type": "markdown",
   "metadata": {},
   "source": [
    "### Проверка на наличие явных дубликатов"
   ]
  },
  {
   "cell_type": "code",
   "execution_count": 5,
   "metadata": {},
   "outputs": [
    {
     "data": {
      "text/plain": [
       "0"
      ]
     },
     "execution_count": 5,
     "metadata": {},
     "output_type": "execute_result"
    }
   ],
   "source": [
    "data.duplicated().sum()"
   ]
  },
  {
   "cell_type": "markdown",
   "metadata": {},
   "source": [
    "### Обработка пропусков"
   ]
  },
  {
   "cell_type": "code",
   "execution_count": 6,
   "metadata": {},
   "outputs": [],
   "source": [
    "def check_of_passes(df):\n",
    "    \"\"\"\n",
    "    Осмотр датасета на структуру пропусков\n",
    "    Показывает какой процент данных отсутствует\n",
    "    \n",
    "    \"\"\"\n",
    "    a = df.isna().sum().sort_values(ascending=False)\n",
    "    return  (((a/len(df))*100).round(0).astype(int)).astype(str) + ' %'"
   ]
  },
  {
   "cell_type": "code",
   "execution_count": 7,
   "metadata": {},
   "outputs": [
    {
     "data": {
      "text/plain": [
       "Tenure             9 %\n",
       "RowNumber          0 %\n",
       "CustomerId         0 %\n",
       "Surname            0 %\n",
       "CreditScore        0 %\n",
       "Geography          0 %\n",
       "Gender             0 %\n",
       "Age                0 %\n",
       "Balance            0 %\n",
       "NumOfProducts      0 %\n",
       "HasCrCard          0 %\n",
       "IsActiveMember     0 %\n",
       "EstimatedSalary    0 %\n",
       "Exited             0 %\n",
       "dtype: object"
      ]
     },
     "execution_count": 7,
     "metadata": {},
     "output_type": "execute_result"
    }
   ],
   "source": [
    "check_of_passes(data)"
   ]
  },
  {
   "cell_type": "markdown",
   "metadata": {},
   "source": [
    "В колонке `Tenure` было обнаружено **9 %** пропущеных значений. Для дальнейшие работе нам нужно избавится от пропусков.\n",
    "Заменим пропущенные значения на медианное значение столбца. Медиана для столбца `Tenure` равна **5**."
   ]
  },
  {
   "cell_type": "code",
   "execution_count": 8,
   "metadata": {},
   "outputs": [],
   "source": [
    "data = data.fillna(data['Tenure'].median())"
   ]
  },
  {
   "cell_type": "code",
   "execution_count": 9,
   "metadata": {},
   "outputs": [
    {
     "data": {
      "text/plain": [
       "RowNumber          0 %\n",
       "CustomerId         0 %\n",
       "Surname            0 %\n",
       "CreditScore        0 %\n",
       "Geography          0 %\n",
       "Gender             0 %\n",
       "Age                0 %\n",
       "Tenure             0 %\n",
       "Balance            0 %\n",
       "NumOfProducts      0 %\n",
       "HasCrCard          0 %\n",
       "IsActiveMember     0 %\n",
       "EstimatedSalary    0 %\n",
       "Exited             0 %\n",
       "dtype: object"
      ]
     },
     "execution_count": 9,
     "metadata": {},
     "output_type": "execute_result"
    }
   ],
   "source": [
    "check_of_passes(data)"
   ]
  },
  {
   "cell_type": "code",
   "execution_count": 10,
   "metadata": {},
   "outputs": [],
   "source": [
    "#def rand_tenure(num):\n",
    "    #random.seed(12345)\n",
    "    #return random.randint(data['Tenure'].min(), data['Tenure'].max())\n",
    "\n",
    "#data.loc[data['Tenure'].isnull(), 'Tenure'] = data.loc[data['Tenure'].isnull(), 'Tenure'].apply(rand_tenure)"
   ]
  },
  {
   "cell_type": "code",
   "execution_count": 11,
   "metadata": {},
   "outputs": [
    {
     "data": {
      "text/plain": [
       "5.00    0.18\n",
       "1.00    0.10\n",
       "2.00    0.10\n",
       "8.00    0.09\n",
       "3.00    0.09\n",
       "7.00    0.09\n",
       "4.00    0.09\n",
       "9.00    0.09\n",
       "6.00    0.09\n",
       "10.00   0.04\n",
       "0.00    0.04\n",
       "Name: Tenure, dtype: float64"
      ]
     },
     "execution_count": 11,
     "metadata": {},
     "output_type": "execute_result"
    }
   ],
   "source": [
    "data['Tenure'].value_counts(normalize=True)"
   ]
  },
  {
   "cell_type": "markdown",
   "metadata": {},
   "source": [
    "### Вывод"
   ]
  },
  {
   "cell_type": "markdown",
   "metadata": {},
   "source": [
    " И так данные находятся в таблице `data`:\n",
    "        \n",
    "Признаки:\n",
    "\n",
    "* `RowNumber` — индекс строки в данных\n",
    "* `CustomerId` — уникальный идентификатор клиента\n",
    "* `Surname` — фамилия\n",
    "* `CreditScore` — кредитный рейтинг\n",
    "* `Geography` — страна проживания\n",
    "* `Gender` — пол\n",
    "* `Age` — возраст\n",
    "* `Tenure` — сколько лет человек является клиентом банка\n",
    "* `Balance` — баланс на счёте\n",
    "* `NumOfProducts` — количество продуктов банка, используемых клиентом\n",
    "* `HasCrCard` — наличие кредитной карты\n",
    "* `IsActiveMember` — активность клиента\n",
    "* `EstimatedSalary` — предполагаемая зарплата\n",
    "\n",
    "Целевой признак:\n",
    "\n",
    "* `Exited` — факт ухода клиента"
   ]
  },
  {
   "cell_type": "markdown",
   "metadata": {},
   "source": [
    "## Исследование задачи"
   ]
  },
  {
   "cell_type": "markdown",
   "metadata": {},
   "source": [
    "### Преобразование данных"
   ]
  },
  {
   "cell_type": "markdown",
   "metadata": {},
   "source": [
    "Преобразуем категориальные признаки к количественным признакам с помощью OHE (техника прямого кодирования). Чтобы не попасть в дамми-ловушку используем функцию pd.get_dummies() с аргументом drop_first=True. Так из датасета удалим столбцы, которые не нужны нам как признаки `RowNumber`,`Surname`,`CustomerId`"
   ]
  },
  {
   "cell_type": "code",
   "execution_count": 12,
   "metadata": {},
   "outputs": [],
   "source": [
    "data_ohe = data.drop(['RowNumber','Surname','CustomerId'] , axis=1)"
   ]
  },
  {
   "cell_type": "code",
   "execution_count": 13,
   "metadata": {},
   "outputs": [],
   "source": [
    "data_ohe = pd.get_dummies(data_ohe, drop_first=True)"
   ]
  },
  {
   "cell_type": "code",
   "execution_count": 14,
   "metadata": {},
   "outputs": [
    {
     "name": "stdout",
     "output_type": "stream",
     "text": [
      "<class 'pandas.core.frame.DataFrame'>\n",
      "RangeIndex: 10000 entries, 0 to 9999\n",
      "Data columns (total 12 columns):\n",
      " #   Column             Non-Null Count  Dtype  \n",
      "---  ------             --------------  -----  \n",
      " 0   CreditScore        10000 non-null  int64  \n",
      " 1   Age                10000 non-null  int64  \n",
      " 2   Tenure             10000 non-null  float64\n",
      " 3   Balance            10000 non-null  float64\n",
      " 4   NumOfProducts      10000 non-null  int64  \n",
      " 5   HasCrCard          10000 non-null  int64  \n",
      " 6   IsActiveMember     10000 non-null  int64  \n",
      " 7   EstimatedSalary    10000 non-null  float64\n",
      " 8   Exited             10000 non-null  int64  \n",
      " 9   Geography_Germany  10000 non-null  uint8  \n",
      " 10  Geography_Spain    10000 non-null  uint8  \n",
      " 11  Gender_Male        10000 non-null  uint8  \n",
      "dtypes: float64(3), int64(6), uint8(3)\n",
      "memory usage: 732.5 KB\n"
     ]
    }
   ],
   "source": [
    "data_ohe.info()"
   ]
  },
  {
   "cell_type": "markdown",
   "metadata": {},
   "source": [
    "Разделим данные на признаки и целевой признак. Так же разделим на три выборки: тренировочную, валидационную и тестовую с отношение 3:1:1. Так же масштабируем признаки, чтобы все признаки были значемы. "
   ]
  },
  {
   "cell_type": "code",
   "execution_count": 15,
   "metadata": {},
   "outputs": [
    {
     "name": "stdout",
     "output_type": "stream",
     "text": [
      "(6000, 11)\n",
      "(2000, 11)\n",
      "(2000, 11)\n"
     ]
    }
   ],
   "source": [
    "target = data_ohe['Exited']\n",
    "features = data_ohe.drop('Exited', axis=1)\n",
    "features_train, features_test, target_train, target_test = train_test_split(\n",
    "    features, target, test_size=0.4, random_state=123) \n",
    "\n",
    "features_test, features_valid, target_test, target_valid = train_test_split(features_test,target_test,\n",
    "                                                                           test_size=0.5, random_state=123)\n",
    "\n",
    "numeric = ['CreditScore', 'Tenure', 'Balance', 'Age', 'NumOfProducts','EstimatedSalary']\n",
    "\n",
    "scaler = StandardScaler()\n",
    "scaler.fit(features_train[numeric])\n",
    "features_train[numeric] = scaler.transform(features_train[numeric])\n",
    "features_valid[numeric] = scaler.transform(features_valid[numeric])\n",
    "features_test[numeric] = scaler.transform(features_test[numeric])\n",
    "\n",
    "print(features_train.shape) \n",
    "print(features_valid.shape) \n",
    "print(features_test.shape) \n"
   ]
  },
  {
   "cell_type": "markdown",
   "metadata": {},
   "source": [
    "### Первичное обучение моделей"
   ]
  },
  {
   "cell_type": "markdown",
   "metadata": {},
   "source": [
    "Проверим наше данные. Попробуем обучить данные с помощью решающего деревья, логистической регрессии и случайного леса."
   ]
  },
  {
   "cell_type": "code",
   "execution_count": 16,
   "metadata": {},
   "outputs": [
    {
     "name": "stdout",
     "output_type": "stream",
     "text": [
      "Точность:дерево решений 0.8065 случайный лес  0.8665 логистическая регрессия 0.8215\n"
     ]
    }
   ],
   "source": [
    "model_DTC = DecisionTreeClassifier(random_state=12345)\n",
    "DTC_score = model_DTC.fit(features_train, target_train).score(features_valid, target_valid)\n",
    "\n",
    "model_RFC = RandomForestClassifier(random_state=12345, n_estimators = 40, max_depth =13)\n",
    "RFC_score = model_RFC.fit(features_train, target_train).score(features_valid, target_valid)\n",
    "\n",
    "model_LGR = LogisticRegression(random_state=12345, solver = 'liblinear')\n",
    "LGR_score = model_LGR.fit(features_train, target_train).score(features_valid, target_valid)\n",
    "print(\"Точность:\" \"дерево решений\", DTC_score, \"случайный лес \", RFC_score, \"логистическая регрессия\", LGR_score)"
   ]
  },
  {
   "cell_type": "markdown",
   "metadata": {},
   "source": [
    "Проверим баланс классов."
   ]
  },
  {
   "cell_type": "code",
   "execution_count": 17,
   "metadata": {},
   "outputs": [
    {
     "data": {
      "text/plain": [
       "0   0.80\n",
       "1   0.20\n",
       "Name: Exited, dtype: float64"
      ]
     },
     "execution_count": 17,
     "metadata": {},
     "output_type": "execute_result"
    }
   ],
   "source": [
    "target_valid.value_counts(normalize = 1)"
   ]
  },
  {
   "cell_type": "markdown",
   "metadata": {},
   "source": [
    "У обучающией выбороки наблюдается заметный дисбаланс класов. Ответы **0 ≈80%** , **1 ≈ 20%**.\n",
    "Можно ожидать, что результаты предсказаний моделей будут сильно склоняться к одному варианту ответов."
   ]
  },
  {
   "cell_type": "markdown",
   "metadata": {},
   "source": [
    "### Проверка адекватности"
   ]
  },
  {
   "cell_type": "code",
   "execution_count": 18,
   "metadata": {},
   "outputs": [
    {
     "name": "stdout",
     "output_type": "stream",
     "text": [
      "Доли ответов:дерево решений 0   0.80\n",
      "1   0.20\n",
      "dtype: float64 случайный лес  0   0.88\n",
      "1   0.12\n",
      "dtype: float64 логистческая регрессия 0   0.92\n",
      "1   0.08\n",
      "dtype: float64"
     ]
    }
   ],
   "source": [
    "model_DTC = DecisionTreeClassifier(random_state=123)\n",
    "model_DTC.fit(features_train, target_train)\n",
    "DTC_share = pd.Series(model_DTC.predict(features_valid)).value_counts(normalize = 1)\n",
    "\n",
    "\n",
    "model_RFC = RandomForestClassifier(random_state=12345, n_estimators = 40, max_depth =13)\n",
    "model_RFC.fit(features_train, target_train)\n",
    "RFC_share = pd.Series(model_RFC.predict(features_valid)).value_counts(normalize = 1)\n",
    "\n",
    "model_LgR = LogisticRegression(solver = 'liblinear')\n",
    "model_LgR.fit(features_train, target_train)\n",
    "LgR_share = pd.Series(model_LgR.predict(features_valid)).value_counts(normalize = 1)\n",
    "print(\"Доли ответов:\" \"дерево решений\", DTC_share, \"случайный лес \", RFC_share, \"логистческая регрессия\", LgR_share , end='')"
   ]
  },
  {
   "cell_type": "markdown",
   "metadata": {},
   "source": [
    "Воспльзуемся моделью `DummyClassifier` со стратегией `most_frequent`чтобы сравнить качество модели."
   ]
  },
  {
   "cell_type": "code",
   "execution_count": 19,
   "metadata": {},
   "outputs": [
    {
     "data": {
      "text/plain": [
       "0.798"
      ]
     },
     "execution_count": 19,
     "metadata": {},
     "output_type": "execute_result"
    }
   ],
   "source": [
    "dummy_clf = DummyClassifier(strategy=\"most_frequent\")\n",
    "dummy_clf.fit(features_train, target_train).score(features_valid, target_valid)"
   ]
  },
  {
   "cell_type": "markdown",
   "metadata": {},
   "source": [
    "По метрики `accuracy` все отлично. Все наши модели по точности больше модели `DummyClassifier`. Посмотрим для каждой модели матрицу ошибок."
   ]
  },
  {
   "cell_type": "markdown",
   "metadata": {},
   "source": [
    "### Матрица ошибок, полнота, точность, F1-мера"
   ]
  },
  {
   "cell_type": "markdown",
   "metadata": {},
   "source": [
    "#### Дерево решений "
   ]
  },
  {
   "cell_type": "code",
   "execution_count": 21,
   "metadata": {},
   "outputs": [
    {
     "name": "stdout",
     "output_type": "stream",
     "text": [
      "[1 0 0 ... 1 0 1]\n",
      "[[0. 1.]\n",
      " [1. 0.]\n",
      " [1. 0.]\n",
      " ...\n",
      " [0. 1.]\n",
      " [1. 0.]\n",
      " [0. 1.]]\n"
     ]
    },
    {
     "data": {
      "text/plain": [
       "array([[1413,  183],\n",
       "       [ 191,  213]])"
      ]
     },
     "execution_count": 21,
     "metadata": {},
     "output_type": "execute_result"
    }
   ],
   "source": [
    "model_DTC = DecisionTreeClassifier(random_state=123)\n",
    "model_DTC.fit(features_train, target_train)\n",
    "DTC_prediction = model_DTC.predict(features_valid)\n",
    "print(DTC_prediction)\n",
    "probabilities_valid_DTC = model_DTC.predict_proba(features_valid)\n",
    "probabilities_one_valid_DTC = probabilities_valid_DTC[:, 1]\n",
    "print(probabilities_valid_DTC)\n",
    "confusion_matrix(target_valid, DTC_prediction)"
   ]
  },
  {
   "cell_type": "markdown",
   "metadata": {},
   "source": [
    "Дерево решений склонно выдавать позитивные предсказания (TP), очень высокое количество ложных позитивных предсказания (FP). Рассмотрим полноту,точноть и F1-меру."
   ]
  },
  {
   "cell_type": "code",
   "execution_count": 21,
   "metadata": {
    "scrolled": true
   },
   "outputs": [
    {
     "name": "stdout",
     "output_type": "stream",
     "text": [
      "Полнота 0.5272277227722773\n",
      "Точность 0.5378787878787878\n",
      "F1-мера 0.5325000000000001\n",
      "AUC-ROC 0.7062830343184695\n"
     ]
    }
   ],
   "source": [
    "print(\"Полнота\" , recall_score(target_valid, DTC_prediction))\n",
    "print(\"Точность\", precision_score(target_valid, DTC_prediction))\n",
    "print(\"F1-мера\", f1_score(target_valid, DTC_prediction))\n",
    "print(\"AUC-ROC\", roc_auc_score(target_valid, probabilities_one_valid_DTC))"
   ]
  },
  {
   "cell_type": "markdown",
   "metadata": {},
   "source": [
    "Полнота и тончность почти одинаковы. F1-мера получилось меньше нашего минимума **0.59**."
   ]
  },
  {
   "cell_type": "markdown",
   "metadata": {},
   "source": [
    "#### Случайный лес"
   ]
  },
  {
   "cell_type": "code",
   "execution_count": 22,
   "metadata": {},
   "outputs": [
    {
     "data": {
      "text/plain": [
       "array([[1543,   53],\n",
       "       [ 214,  190]])"
      ]
     },
     "execution_count": 22,
     "metadata": {},
     "output_type": "execute_result"
    }
   ],
   "source": [
    "model_RFC = RandomForestClassifier(random_state=12345, n_estimators = 40, max_depth =13)\n",
    "model_RFC.fit(features_train, target_train)\n",
    "\n",
    "probabilities_valid_RFC = model_RFC.predict_proba(features_valid)\n",
    "probabilities_one_valid_RFC = probabilities_valid_RFC[:, 1]\n",
    "\n",
    "RFC_prediction = model_RFC.predict(features_valid)\n",
    "\n",
    "confusion_matrix(target_valid, RFC_prediction)"
   ]
  },
  {
   "cell_type": "markdown",
   "metadata": {},
   "source": [
    "Модель случайного леса сильно склоняется к ложно позитивным предсказанием. Рассмотрим полноту,точноть и F1-меру."
   ]
  },
  {
   "cell_type": "code",
   "execution_count": 23,
   "metadata": {
    "scrolled": false
   },
   "outputs": [
    {
     "name": "stdout",
     "output_type": "stream",
     "text": [
      "Полнота 0.47029702970297027\n",
      "Точность 0.7818930041152263\n",
      "F1-мера 0.5873261205564142\n",
      "AUC-ROC 0.8525994751730811\n"
     ]
    }
   ],
   "source": [
    "print(\"Полнота\" , recall_score(target_valid, RFC_prediction))\n",
    "print(\"Точность\", precision_score(target_valid, RFC_prediction))\n",
    "print(\"F1-мера\", f1_score(target_valid, RFC_prediction))\n",
    "print(\"AUC-ROC\", roc_auc_score(target_valid, probabilities_one_valid_RFC))"
   ]
  },
  {
   "cell_type": "markdown",
   "metadata": {},
   "source": [
    "Модель случайный лес показала прирост в точности и F1-мера стала больше. Все еще меньше нашего целевого значения."
   ]
  },
  {
   "cell_type": "markdown",
   "metadata": {},
   "source": [
    "#### Логистическая регрессия"
   ]
  },
  {
   "cell_type": "code",
   "execution_count": 24,
   "metadata": {},
   "outputs": [
    {
     "data": {
      "text/plain": [
       "array([[1536,   60],\n",
       "       [ 297,  107]])"
      ]
     },
     "execution_count": 24,
     "metadata": {},
     "output_type": "execute_result"
    }
   ],
   "source": [
    "model_LgR = LogisticRegression(solver = 'liblinear')\n",
    "model_LgR.fit(features_train, target_train)\n",
    "\n",
    "probabilities_valid_LgR = model_LgR.predict_proba(features_valid)\n",
    "probabilities_one_valid_LgR = probabilities_valid_RFC[:, 1]\n",
    "\n",
    "LgR_prediction = model_LgR.predict(features_valid)\n",
    "\n",
    "confusion_matrix(target_valid, LgR_prediction)"
   ]
  },
  {
   "cell_type": "markdown",
   "metadata": {},
   "source": [
    "Модель случайного леса сильно склоняется к ложно позитивным предсказанием. Рассмотрим полноту,точноть и F1-меру."
   ]
  },
  {
   "cell_type": "code",
   "execution_count": 25,
   "metadata": {
    "scrolled": false
   },
   "outputs": [
    {
     "name": "stdout",
     "output_type": "stream",
     "text": [
      "Полнота 0.26485148514851486\n",
      "Точность 0.6407185628742516\n",
      "F1-мера 0.3747810858143608\n",
      "AUC-ROC 0.8525994751730811\n"
     ]
    }
   ],
   "source": [
    "print(\"Полнота\" , recall_score(target_valid, LgR_prediction))\n",
    "print(\"Точность\", precision_score(target_valid, LgR_prediction))\n",
    "print(\"F1-мера\", f1_score(target_valid, LgR_prediction))\n",
    "print(\"AUC-ROC\", roc_auc_score(target_valid, probabilities_one_valid_LgR))"
   ]
  },
  {
   "cell_type": "markdown",
   "metadata": {},
   "source": [
    "#### Вывод"
   ]
  },
  {
   "cell_type": "markdown",
   "metadata": {},
   "source": [
    "При иследование задачи выяснилось что в данных наблюдается дисбаланс классов. Кол-во отрицательных классов гораздо больше, чем положительных. "
   ]
  },
  {
   "cell_type": "markdown",
   "metadata": {},
   "source": [
    "## Борьба с дисбалансом"
   ]
  },
  {
   "cell_type": "markdown",
   "metadata": {},
   "source": [
    "### Борьба с дисбалансом"
   ]
  },
  {
   "cell_type": "markdown",
   "metadata": {},
   "source": [
    "Для борьбы с дисбалансом воспользуемся техникой upsampling. То есть увеличим данные положительного класса."
   ]
  },
  {
   "cell_type": "code",
   "execution_count": 26,
   "metadata": {},
   "outputs": [],
   "source": [
    "def upsample(features, target, repeat):\n",
    "    features_zeros = features[target == 0]\n",
    "    features_ones = features[target == 1]\n",
    "    target_zeros = target[target == 0]\n",
    "    target_ones = target[target == 1]\n",
    "\n",
    "    features_upsampled = pd.concat([features_zeros] + [features_ones] * repeat)\n",
    "    target_upsampled = pd.concat([target_zeros] + [target_ones] * repeat)\n",
    "    \n",
    "    features_upsampled, target_upsampled = shuffle(\n",
    "        features_upsampled, target_upsampled, random_state=12345)\n",
    "    \n",
    "    return features_upsampled, target_upsampled\n",
    "\n",
    "features_upsampled, target_upsampled = upsample(features_train, target_train, 4)"
   ]
  },
  {
   "cell_type": "code",
   "execution_count": 27,
   "metadata": {},
   "outputs": [
    {
     "data": {
      "text/plain": [
       "1   0.51\n",
       "0   0.49\n",
       "Name: Exited, dtype: float64"
      ]
     },
     "execution_count": 27,
     "metadata": {},
     "output_type": "execute_result"
    }
   ],
   "source": [
    "target_upsampled.value_counts(normalize = 1)"
   ]
  },
  {
   "cell_type": "code",
   "execution_count": 28,
   "metadata": {},
   "outputs": [
    {
     "data": {
      "text/plain": [
       "(9717, 11)"
      ]
     },
     "execution_count": 28,
     "metadata": {},
     "output_type": "execute_result"
    }
   ],
   "source": [
    "features_upsampled.shape"
   ]
  },
  {
   "cell_type": "code",
   "execution_count": 29,
   "metadata": {},
   "outputs": [
    {
     "data": {
      "text/plain": [
       "(9717,)"
      ]
     },
     "execution_count": 29,
     "metadata": {},
     "output_type": "execute_result"
    }
   ],
   "source": [
    "target_upsampled.shape"
   ]
  },
  {
   "cell_type": "markdown",
   "metadata": {},
   "source": [
    "В этой нелегкой  борьбе мы победили. Классов стало поровну."
   ]
  },
  {
   "cell_type": "markdown",
   "metadata": {},
   "source": [
    "### Обучение моделей на сбаланированной выборке"
   ]
  },
  {
   "cell_type": "markdown",
   "metadata": {},
   "source": [
    "Точность  моделей на выборке с дисбалансом:"
   ]
  },
  {
   "cell_type": "code",
   "execution_count": 30,
   "metadata": {},
   "outputs": [
    {
     "name": "stdout",
     "output_type": "stream",
     "text": [
      "Точность:дерево решений 0.8065 случайный лес  0.8665 логистическая регрессия 0.8215\n"
     ]
    }
   ],
   "source": [
    "model_DTC = DecisionTreeClassifier(random_state=12345)\n",
    "DTC_score = model_DTC.fit(features_train, target_train).score(features_valid, target_valid)\n",
    "\n",
    "model_RFC = RandomForestClassifier(random_state=12345, n_estimators = 40, max_depth =13)\n",
    "RFC_score = model_RFC.fit(features_train, target_train).score(features_valid, target_valid)\n",
    "\n",
    "model_LGR = LogisticRegression(random_state=12345, solver = 'liblinear')\n",
    "LGR_score = model_LGR.fit(features_train, target_train).score(features_valid, target_valid)\n",
    "print(\"Точность:\" \"дерево решений\", DTC_score, \"случайный лес \", RFC_score, \"логистическая регрессия\", LGR_score)"
   ]
  },
  {
   "cell_type": "markdown",
   "metadata": {},
   "source": [
    "Точность  моделей на сбалансированной выборке:"
   ]
  },
  {
   "cell_type": "code",
   "execution_count": 31,
   "metadata": {},
   "outputs": [
    {
     "name": "stdout",
     "output_type": "stream",
     "text": [
      "Точность:дерево решений 0.8055 случайный лес  0.851 логистическая регрессия 0.714\n"
     ]
    }
   ],
   "source": [
    "model_DTC = DecisionTreeClassifier(random_state=12345)\n",
    "DTC_score = model_DTC.fit(features_upsampled, target_upsampled).score(features_valid, target_valid)\n",
    "\n",
    "model_RFC = RandomForestClassifier(random_state=12345, n_estimators = 40, max_depth =13)\n",
    "RFC_score = model_RFC.fit(features_upsampled, target_upsampled).score(features_valid, target_valid)\n",
    "\n",
    "model_LGR = LogisticRegression(random_state=12345, solver = 'liblinear')\n",
    "LGR_score = model_LGR.fit(features_upsampled, target_upsampled).score(features_valid, target_valid)\n",
    "print(\"Точность:\" \"дерево решений\", DTC_score, \"случайный лес \", RFC_score, \"логистическая регрессия\", LGR_score)"
   ]
  },
  {
   "cell_type": "markdown",
   "metadata": {},
   "source": [
    "Точность моделей изменилась незначительно. Проверим другие метрики."
   ]
  },
  {
   "cell_type": "markdown",
   "metadata": {},
   "source": [
    "Для модели решающего дерева."
   ]
  },
  {
   "cell_type": "code",
   "execution_count": 32,
   "metadata": {},
   "outputs": [
    {
     "data": {
      "text/plain": [
       "array([[1411,  185],\n",
       "       [ 202,  202]])"
      ]
     },
     "execution_count": 32,
     "metadata": {},
     "output_type": "execute_result"
    }
   ],
   "source": [
    "model_DTC = DecisionTreeClassifier(random_state=123)\n",
    "model_DTC.fit(features_upsampled, target_upsampled)\n",
    "DTC_prediction = model_DTC.predict(features_valid)\n",
    "\n",
    "probabilities_valid_DTC = model_DTC.predict_proba(features_valid)\n",
    "probabilities_one_valid_DTC = probabilities_valid_DTC[:, 1]\n",
    "\n",
    "confusion_matrix(target_valid, DTC_prediction)"
   ]
  },
  {
   "cell_type": "code",
   "execution_count": 33,
   "metadata": {
    "scrolled": true
   },
   "outputs": [
    {
     "name": "stdout",
     "output_type": "stream",
     "text": [
      "Полнота 0.5\n",
      "Точность 0.5219638242894057\n",
      "F1-мера 0.5107458912768648\n",
      "AUC-ROC 0.6920426065162907\n"
     ]
    }
   ],
   "source": [
    "print(\"Полнота\" , recall_score(target_valid, DTC_prediction))\n",
    "print(\"Точность\", precision_score(target_valid, DTC_prediction))\n",
    "print(\"F1-мера\", f1_score(target_valid, DTC_prediction))\n",
    "print(\"AUC-ROC\", roc_auc_score(target_valid, probabilities_one_valid_DTC))"
   ]
  },
  {
   "cell_type": "markdown",
   "metadata": {},
   "source": [
    "Для модели случайного леса."
   ]
  },
  {
   "cell_type": "code",
   "execution_count": 34,
   "metadata": {},
   "outputs": [
    {
     "data": {
      "text/plain": [
       "array([[1444,  152],\n",
       "       [ 146,  258]])"
      ]
     },
     "execution_count": 34,
     "metadata": {},
     "output_type": "execute_result"
    }
   ],
   "source": [
    "model_RFC = RandomForestClassifier(random_state=12345, n_estimators = 40, max_depth =13)\n",
    "model_RFC.fit(features_upsampled, target_upsampled)\n",
    "\n",
    "probabilities_valid_RFC = model_RFC.predict_proba(features_valid)\n",
    "probabilities_one_valid_RFC = probabilities_valid_RFC[:, 1]\n",
    "\n",
    "RFC_prediction = model_RFC.predict(features_valid)\n",
    "\n",
    "confusion_matrix(target_valid, RFC_prediction)"
   ]
  },
  {
   "cell_type": "code",
   "execution_count": 35,
   "metadata": {
    "scrolled": true
   },
   "outputs": [
    {
     "name": "stdout",
     "output_type": "stream",
     "text": [
      "Полнота 0.6386138613861386\n",
      "Точность 0.6292682926829268\n",
      "F1-мера 0.6339066339066339\n",
      "AUC-ROC 0.846845610312911\n"
     ]
    }
   ],
   "source": [
    "print(\"Полнота\" , recall_score(target_valid, RFC_prediction))\n",
    "print(\"Точность\", precision_score(target_valid, RFC_prediction))\n",
    "print(\"F1-мера\", f1_score(target_valid, RFC_prediction))\n",
    "print(\"AUC-ROC\", roc_auc_score(target_valid, probabilities_one_valid_RFC))"
   ]
  },
  {
   "cell_type": "markdown",
   "metadata": {},
   "source": [
    "Для модели логистической регрессии."
   ]
  },
  {
   "cell_type": "code",
   "execution_count": 36,
   "metadata": {},
   "outputs": [
    {
     "data": {
      "text/plain": [
       "array([[1134,  462],\n",
       "       [ 110,  294]])"
      ]
     },
     "execution_count": 36,
     "metadata": {},
     "output_type": "execute_result"
    }
   ],
   "source": [
    "model_LgR = LogisticRegression(solver = 'liblinear')\n",
    "model_LgR.fit(features_upsampled, target_upsampled)\n",
    "\n",
    "probabilities_valid_LgR = model_LgR.predict_proba(features_valid)\n",
    "probabilities_one_valid_LgR = probabilities_valid_RFC[:, 1]\n",
    "\n",
    "LgR_prediction = model_LgR.predict(features_valid)\n",
    "\n",
    "confusion_matrix(target_valid, LgR_prediction)\n",
    "\n"
   ]
  },
  {
   "cell_type": "code",
   "execution_count": 37,
   "metadata": {
    "scrolled": false
   },
   "outputs": [
    {
     "name": "stdout",
     "output_type": "stream",
     "text": [
      "Полнота 0.7277227722772277\n",
      "Точность 0.3888888888888889\n",
      "F1-мера 0.506896551724138\n",
      "AUC-ROC 0.846845610312911\n"
     ]
    }
   ],
   "source": [
    "print(\"Полнота\" , recall_score(target_valid, LgR_prediction))\n",
    "print(\"Точность\", precision_score(target_valid, LgR_prediction))\n",
    "print(\"F1-мера\", f1_score(target_valid, LgR_prediction))\n",
    "print(\"AUC-ROC\", roc_auc_score(target_valid, probabilities_one_valid_LgR))"
   ]
  },
  {
   "cell_type": "markdown",
   "metadata": {},
   "source": [
    "Показатели всех моделей улучшились.\n",
    "Лучшие результаты показывает модель случайный лес. На валидационной выборке показывает результаты **F1 меры = 0.634**, что выше целевого значения.\n",
    "Попробуем улучшить модель путем изменения параметров."
   ]
  },
  {
   "cell_type": "markdown",
   "metadata": {},
   "source": [
    "Теперь поработаем только с одной моделью случайного леса и подберем гиперпараметры, чтобы улучшить значения метрик."
   ]
  },
  {
   "cell_type": "markdown",
   "metadata": {},
   "source": [
    "### Улучшение модели случайного леса"
   ]
  },
  {
   "cell_type": "code",
   "execution_count": 38,
   "metadata": {},
   "outputs": [
    {
     "name": "stdout",
     "output_type": "stream",
     "text": [
      "est = 40, depth = 13\n",
      " Recall = 0.646, Precision = 0.620, AUC = 0.847, F1 = 0.633 - Threshold = 0.49\n",
      "CPU times: user 40.7 s, sys: 110 ms, total: 40.8 s\n",
      "Wall time: 40.9 s\n"
     ]
    }
   ],
   "source": [
    "%%time\n",
    "best_model = None\n",
    "best_result_recall = 0\n",
    "best_result_precision = 0\n",
    "best_result_f1 = 0\n",
    "best_result_auc = 0 \n",
    "best_est = 0\n",
    "best_depth = 0\n",
    "for est in range(10, 101, 10):\n",
    "    for depth in range (1, 15, 2):\n",
    "        model = RandomForestClassifier(random_state=12345, max_depth= depth,n_estimators=est)#\n",
    "        model.fit(features_upsampled,target_upsampled)\n",
    "\n",
    "        probabilities_valid = model.predict_proba(features_valid)\n",
    "        probabilities_one_valid = probabilities_valid[:, 1]\n",
    "        result_auc = roc_auc_score(target_valid, probabilities_one_valid)\n",
    "        \n",
    "        for threshold in np.arange(0, 0.5, 0.01):\n",
    "            predicted_valid = probabilities_one_valid > threshold\n",
    "\n",
    "            result_recall = recall_score(target_valid, predicted_valid)\n",
    "            result_precision = precision_score(target_valid, predicted_valid)\n",
    "            result_f1 = f1_score(target_valid, predicted_valid)\n",
    "            #result_auc = roc_auc_score(target_valid, predicted_valid)\n",
    "\n",
    "            if result_f1 > best_result_f1:\n",
    "                best_result_f1 = result_f1\n",
    "                best_est = est\n",
    "                best_depth = depth\n",
    "                best_result_recall = result_recall\n",
    "                best_result_precision = result_precision\n",
    "                best_result_auc = result_auc\n",
    "\n",
    "print('est = {:.0f}, depth = {:.0f}'.format(best_est,best_depth))\n",
    "print(' Recall = {:.3f}, Precision = {:.3f}, AUC = {:.3f}, F1 = {:.3f} - Threshold = {:.2f}'.format(\n",
    "                        best_result_recall,best_result_precision,best_result_auc,best_result_f1, threshold ))\n",
    "                    "
   ]
  },
  {
   "cell_type": "markdown",
   "metadata": {},
   "source": [
    "### Вывод"
   ]
  },
  {
   "cell_type": "markdown",
   "metadata": {},
   "source": [
    "При обнаржунеие дисбаланса в данных был применем метод **upsampling** тоесть мы увеличили выборку с помощью увелечение кол-во положительного класса. При обучение моделей на сбалансированных данных наилушчий результат показала модель случайного леса.\n",
    "При подборе параметров для модели случайного леса получили значение F1-мера **0.633**, что является большего нашего целового значения. При параметрах кол-во дереьвьев **40**, глубина дерева **13** и порогом **0,49**."
   ]
  },
  {
   "cell_type": "markdown",
   "metadata": {},
   "source": [
    "## Тестирование модели"
   ]
  },
  {
   "cell_type": "markdown",
   "metadata": {},
   "source": [
    "Проверим нашу модель на тестовой выборке. Для начала объединим наши две выборки между собой train+valid. Но выборка valid имеет дисбаланс, так же как и для выборки train преобразуем выборку спомощью метода upsampling."
   ]
  },
  {
   "cell_type": "code",
   "execution_count": 39,
   "metadata": {},
   "outputs": [
    {
     "data": {
      "text/plain": [
       "0   0.80\n",
       "1   0.20\n",
       "Name: Exited, dtype: float64"
      ]
     },
     "execution_count": 39,
     "metadata": {},
     "output_type": "execute_result"
    }
   ],
   "source": [
    "target_valid.value_counts(normalize=True)"
   ]
  },
  {
   "cell_type": "code",
   "execution_count": 40,
   "metadata": {},
   "outputs": [],
   "source": [
    "features_upsampled_valid, target_upsampled_valid = upsample(features_valid, target_valid, 4)"
   ]
  },
  {
   "cell_type": "code",
   "execution_count": 41,
   "metadata": {},
   "outputs": [
    {
     "data": {
      "text/plain": [
       "1   0.50\n",
       "0   0.50\n",
       "Name: Exited, dtype: float64"
      ]
     },
     "execution_count": 41,
     "metadata": {},
     "output_type": "execute_result"
    }
   ],
   "source": [
    "target_upsampled_valid.value_counts(normalize=True)"
   ]
  },
  {
   "cell_type": "code",
   "execution_count": 42,
   "metadata": {},
   "outputs": [
    {
     "data": {
      "text/plain": [
       "(3212,)"
      ]
     },
     "execution_count": 42,
     "metadata": {},
     "output_type": "execute_result"
    }
   ],
   "source": [
    "target_upsampled_valid.shape"
   ]
  },
  {
   "cell_type": "code",
   "execution_count": 43,
   "metadata": {},
   "outputs": [
    {
     "data": {
      "text/plain": [
       "(9717,)"
      ]
     },
     "execution_count": 43,
     "metadata": {},
     "output_type": "execute_result"
    }
   ],
   "source": [
    "target_upsampled.shape"
   ]
  },
  {
   "cell_type": "code",
   "execution_count": 44,
   "metadata": {},
   "outputs": [],
   "source": [
    "features_upsampled_general = pd.concat([features_upsampled_valid, features_upsampled])"
   ]
  },
  {
   "cell_type": "code",
   "execution_count": 45,
   "metadata": {},
   "outputs": [],
   "source": [
    "target_upsampled_general = pd.concat([target_upsampled_valid, target_upsampled])"
   ]
  },
  {
   "cell_type": "code",
   "execution_count": 46,
   "metadata": {},
   "outputs": [
    {
     "data": {
      "text/plain": [
       "(12929, 11)"
      ]
     },
     "execution_count": 46,
     "metadata": {},
     "output_type": "execute_result"
    }
   ],
   "source": [
    "features_upsampled_general.shape"
   ]
  },
  {
   "cell_type": "code",
   "execution_count": 47,
   "metadata": {},
   "outputs": [
    {
     "data": {
      "text/plain": [
       "(12929,)"
      ]
     },
     "execution_count": 47,
     "metadata": {},
     "output_type": "execute_result"
    }
   ],
   "source": [
    "target_upsampled_general.shape"
   ]
  },
  {
   "cell_type": "code",
   "execution_count": 52,
   "metadata": {},
   "outputs": [
    {
     "name": "stdout",
     "output_type": "stream",
     "text": [
      " Recall = 0.650, Precision = 0.591, AUC = 0.867, F1 = 0.619\n",
      "Accuracy = 0.847\n"
     ]
    }
   ],
   "source": [
    "\n",
    "best_model = None\n",
    "best_result_recall = 0\n",
    "best_result_precision = 0\n",
    "best_result_f1 = 0\n",
    "best_result_auc = 0 \n",
    "best_est = 0\n",
    "best_depth = 0\n",
    "\n",
    "\n",
    "model = RandomForestClassifier(random_state=12345, max_depth= 13,n_estimators=40)\n",
    "model.fit(features_upsampled_general,target_upsampled_general)\n",
    "\n",
    "probabilities_test = model.predict_proba(features_test)\n",
    "probabilities_one_test = probabilities_test[:, 1]\n",
    "\n",
    "result_auc_test = roc_auc_score(target_test, probabilities_one_test)\n",
    "\n",
    "predicted_test = probabilities_one_test > 0.49\n",
    "\n",
    "result_recall_test = recall_score(target_test, predicted_test)\n",
    "result_precision_test = precision_score(target_test, predicted_test)\n",
    "result_f1_test = f1_score(target_test, predicted_test)\n",
    "# result_auc_test = roc_auc_score(target_test, predicted_test)\n",
    "\n",
    "result = model.score(features_test, target_test)\n",
    "           \n",
    "print(' Recall = {:.3f}, Precision = {:.3f}, AUC = {:.3f}, F1 = {:.3f}'.format(result_recall_test,\n",
    "                                                                result_precision_test, result_auc_test, result_f1_test))\n",
    "print('Accuracy =',result)"
   ]
  },
  {
   "cell_type": "markdown",
   "metadata": {},
   "source": [
    "Модель показала отличные результат метрика **F1** превысила целевое значение **0.619** > **0.59**."
   ]
  },
  {
   "cell_type": "markdown",
   "metadata": {},
   "source": [
    "###  Проверка на адекватность тестовой модели"
   ]
  },
  {
   "cell_type": "code",
   "execution_count": 49,
   "metadata": {},
   "outputs": [
    {
     "data": {
      "text/plain": [
       "0.197"
      ]
     },
     "execution_count": 49,
     "metadata": {},
     "output_type": "execute_result"
    }
   ],
   "source": [
    "dummy_clf_test = DummyClassifier(strategy=\"most_frequent\")\n",
    "dummy_clf_test.fit(features_upsampled_general,target_upsampled_general).score(features_test, target_test)"
   ]
  },
  {
   "cell_type": "code",
   "execution_count": 56,
   "metadata": {},
   "outputs": [
    {
     "data": {
      "text/plain": [
       "0.329156223893066"
      ]
     },
     "execution_count": 56,
     "metadata": {},
     "output_type": "execute_result"
    }
   ],
   "source": [
    "#КОД РЕВЬЮЕРА\n",
    "dummy_clf_test = DummyClassifier(strategy=\"most_frequent\")\n",
    "dummy_clf_test.fit(features_upsampled_general,target_upsampled_general)\n",
    "\n",
    "predicted_dummy = dummy_clf_test.predict(features_test)\n",
    "f1_score(target_test, predicted_dummy)"
   ]
  },
  {
   "cell_type": "markdown",
   "metadata": {},
   "source": [
    "Проверка на адекватность пройдена. Accuracy модели случайной лес больше точности модели DummyClassifier **0.847** > **0.197**."
   ]
  },
  {
   "cell_type": "markdown",
   "metadata": {},
   "source": [
    "## Вывод"
   ]
  },
  {
   "cell_type": "markdown",
   "metadata": {},
   "source": [
    "В нашем распоряжение были данные из «Бета-Банка», нужно было спрогноизировать отток клиентов на основе исторических данных. При обработке данных было обнаружено пропуск данных в столбце `Tenuare`, пропуски были заполнены случайными образ (либо `0` либо `1`). Также данные были преобразованы с помощью прямого кодирования `OHE` с аргументом `drop_first=True`, чтобы не попасть в дамми-ловушку. Данные были разделены на три выборки: тренировочную, валидационную и тестовую с отношение 3:1:1. Так же воспользовались  масштабириованием признаки, чтобы все признаки были значемы.\n",
    "\n",
    "Для прогнозирования оттока клиентов было рассмотренно три модели: **Дерево решений**, **Случайный лес**, **Логистическая регрессия**. \n",
    "\n",
    "При первом изучение модели метрика **Accuracy** все три модели показали отличные результаты: **Дерево решений - 0.807**,  **Случайный лес - 0.865**,  **Логистическая регрессия -  0.8215**. Проверка на адекватность все наши три модели прошли. Для проверки на адекватность мы использовали `DummyClassifier` со стратегией `most_frequent`. Изучение других метрик таких как **матрица ошибок**, **полнота**, **точность**, **F1-мера** и **AUC-ROC** показало что не одна из моделей не показала хороших значений. И наша пороговое значение **F1-мера = 0.59** не было пройдено. Это было связано с дисбалансом данных.\n",
    "\n",
    "Для балансирования данных был использован метод `upsampling`. Увеличи кол-во положительного класса в тренировачной выборке, так что бы положительный и отрицательный класс равен.\n",
    "\n",
    "Обучение моделей на сбалансированных данных показал отличный результат. Метрика **Accuracy** практически не имзенилась, но вот другие метрики стали лучше. Среди моделей самый лучший резльтат метрики **F1-мера** показала модель **Случайный лес** со значением **Полнота = 0.639**, **Точность = 0.63**, **F1-мера = 0.634**, **AUC-ROC = 0.847**.\n",
    "\n",
    "В процессе улучшения модели случайного леса были подобраны следующие гипрепарамтеры:\n",
    "кол-во дереьвьев **40**, глубина дерева **13** и порогом **0,49**.\n",
    "\n",
    "Тестирование модели на тестовой выборки показало хороший результат  **Полнота = 0.650**, **Точность = 0.591**, **AUC-ROC = 0.847**, **F1 = 0.619**. И проверка на адекватность тоже пройдена. Accuracy случайного леса **0.867** больше чем `DummyClassifier` **0.197**.\n",
    "\n",
    "Наша цель чтобы модель показала метрику **F1 > 0.59** достигнута метрика случайного леса **F1 = 0.619**.\n"
   ]
  }
 ],
 "metadata": {
  "ExecuteTimeLog": [
   {
    "duration": 1316,
    "start_time": "2022-02-07T15:39:34.111Z"
   },
   {
    "duration": 32,
    "start_time": "2022-02-07T15:40:38.897Z"
   },
   {
    "duration": 9,
    "start_time": "2022-02-07T15:40:47.802Z"
   },
   {
    "duration": 15,
    "start_time": "2022-02-07T15:41:01.486Z"
   },
   {
    "duration": 8,
    "start_time": "2022-02-07T16:02:13.852Z"
   },
   {
    "duration": 7,
    "start_time": "2022-02-07T16:02:23.980Z"
   },
   {
    "duration": 5,
    "start_time": "2022-02-07T16:02:32.427Z"
   },
   {
    "duration": 54,
    "start_time": "2022-02-07T16:02:40.020Z"
   },
   {
    "duration": 7,
    "start_time": "2022-02-07T16:02:51.257Z"
   },
   {
    "duration": 7,
    "start_time": "2022-02-07T16:02:56.020Z"
   },
   {
    "duration": 7,
    "start_time": "2022-02-07T16:03:00.390Z"
   },
   {
    "duration": 66,
    "start_time": "2022-02-07T16:03:04.898Z"
   },
   {
    "duration": 7,
    "start_time": "2022-02-07T16:03:14.973Z"
   },
   {
    "duration": 68,
    "start_time": "2022-02-07T16:03:58.154Z"
   },
   {
    "duration": 397,
    "start_time": "2022-02-07T16:04:32.611Z"
   },
   {
    "duration": 825,
    "start_time": "2022-02-07T16:04:45.122Z"
   },
   {
    "duration": 9,
    "start_time": "2022-02-07T16:04:52.169Z"
   },
   {
    "duration": 267,
    "start_time": "2022-02-07T16:05:10.972Z"
   },
   {
    "duration": 274,
    "start_time": "2022-02-07T16:05:17.489Z"
   },
   {
    "duration": 21,
    "start_time": "2022-02-07T16:05:44.407Z"
   },
   {
    "duration": 12,
    "start_time": "2022-02-07T16:06:08.935Z"
   },
   {
    "duration": 10,
    "start_time": "2022-02-07T16:09:00.034Z"
   },
   {
    "duration": 8,
    "start_time": "2022-02-07T16:09:23.942Z"
   },
   {
    "duration": 95,
    "start_time": "2022-02-07T16:11:07.902Z"
   },
   {
    "duration": 7,
    "start_time": "2022-02-07T16:11:16.213Z"
   },
   {
    "duration": 4,
    "start_time": "2022-02-07T17:13:55.647Z"
   },
   {
    "duration": 3,
    "start_time": "2022-02-07T17:14:02.510Z"
   },
   {
    "duration": 4,
    "start_time": "2022-02-07T17:14:13.862Z"
   },
   {
    "duration": 4,
    "start_time": "2022-02-07T17:14:38.656Z"
   },
   {
    "duration": 4,
    "start_time": "2022-02-07T17:14:39.368Z"
   },
   {
    "duration": 4,
    "start_time": "2022-02-07T17:14:51.398Z"
   },
   {
    "duration": 1298,
    "start_time": "2022-02-07T17:15:13.223Z"
   },
   {
    "duration": 31,
    "start_time": "2022-02-07T17:15:14.523Z"
   },
   {
    "duration": 17,
    "start_time": "2022-02-07T17:15:15.317Z"
   },
   {
    "duration": 23,
    "start_time": "2022-02-07T17:15:16.847Z"
   },
   {
    "duration": 10,
    "start_time": "2022-02-07T17:15:19.311Z"
   },
   {
    "duration": 4,
    "start_time": "2022-02-07T17:15:20.247Z"
   },
   {
    "duration": 4,
    "start_time": "2022-02-07T17:15:21.218Z"
   },
   {
    "duration": 7,
    "start_time": "2022-02-07T17:15:22.502Z"
   },
   {
    "duration": 4,
    "start_time": "2022-02-07T17:15:23.166Z"
   },
   {
    "duration": 4,
    "start_time": "2022-02-07T17:15:23.866Z"
   },
   {
    "duration": 4,
    "start_time": "2022-02-07T17:15:24.455Z"
   },
   {
    "duration": 377,
    "start_time": "2022-02-07T17:25:01.929Z"
   },
   {
    "duration": 267,
    "start_time": "2022-02-07T17:25:09.558Z"
   },
   {
    "duration": 216,
    "start_time": "2022-02-07T17:40:24.912Z"
   },
   {
    "duration": 168,
    "start_time": "2022-02-07T17:40:32.987Z"
   },
   {
    "duration": 10,
    "start_time": "2022-02-07T18:24:19.207Z"
   },
   {
    "duration": 1280,
    "start_time": "2022-02-07T18:28:15.227Z"
   },
   {
    "duration": 31,
    "start_time": "2022-02-07T18:28:17.427Z"
   },
   {
    "duration": 17,
    "start_time": "2022-02-07T18:28:18.949Z"
   },
   {
    "duration": 22,
    "start_time": "2022-02-07T18:28:22.402Z"
   },
   {
    "duration": 9,
    "start_time": "2022-02-07T18:28:24.040Z"
   },
   {
    "duration": 10,
    "start_time": "2022-02-07T18:28:25.555Z"
   },
   {
    "duration": 4,
    "start_time": "2022-02-07T18:28:27.109Z"
   },
   {
    "duration": 4,
    "start_time": "2022-02-07T18:28:28.095Z"
   },
   {
    "duration": 6,
    "start_time": "2022-02-07T18:28:29.615Z"
   },
   {
    "duration": 4,
    "start_time": "2022-02-07T18:28:30.606Z"
   },
   {
    "duration": 4,
    "start_time": "2022-02-07T18:28:31.245Z"
   },
   {
    "duration": 4,
    "start_time": "2022-02-07T18:28:32.356Z"
   },
   {
    "duration": 411,
    "start_time": "2022-02-07T18:28:33.284Z"
   },
   {
    "duration": 214,
    "start_time": "2022-02-07T18:28:38.021Z"
   },
   {
    "duration": 172,
    "start_time": "2022-02-07T18:28:39.502Z"
   },
   {
    "duration": 7,
    "start_time": "2022-02-07T18:29:16.508Z"
   },
   {
    "duration": 216,
    "start_time": "2022-02-07T18:29:17.214Z"
   },
   {
    "duration": 216,
    "start_time": "2022-02-07T18:29:18.054Z"
   },
   {
    "duration": 201,
    "start_time": "2022-02-07T18:31:02.185Z"
   },
   {
    "duration": 152,
    "start_time": "2022-02-07T18:31:03.066Z"
   },
   {
    "duration": 10,
    "start_time": "2022-02-07T18:31:27.208Z"
   },
   {
    "duration": 13,
    "start_time": "2022-02-07T18:31:28.747Z"
   },
   {
    "duration": 8,
    "start_time": "2022-02-07T18:31:29.443Z"
   },
   {
    "duration": 32,
    "start_time": "2022-02-07T18:43:01.782Z"
   },
   {
    "duration": 30,
    "start_time": "2022-02-07T18:43:19.903Z"
   },
   {
    "duration": 257,
    "start_time": "2022-02-07T18:46:40.274Z"
   },
   {
    "duration": 2070,
    "start_time": "2022-02-08T08:25:22.294Z"
   },
   {
    "duration": 252,
    "start_time": "2022-02-08T08:25:27.483Z"
   },
   {
    "duration": 1283,
    "start_time": "2022-02-08T08:25:40.216Z"
   },
   {
    "duration": 31,
    "start_time": "2022-02-08T08:25:41.501Z"
   },
   {
    "duration": 16,
    "start_time": "2022-02-08T08:25:41.534Z"
   },
   {
    "duration": 24,
    "start_time": "2022-02-08T08:25:41.551Z"
   },
   {
    "duration": 23,
    "start_time": "2022-02-08T08:25:41.576Z"
   },
   {
    "duration": 11,
    "start_time": "2022-02-08T08:25:41.601Z"
   },
   {
    "duration": 9,
    "start_time": "2022-02-08T08:25:41.613Z"
   },
   {
    "duration": 8,
    "start_time": "2022-02-08T08:25:41.625Z"
   },
   {
    "duration": 8,
    "start_time": "2022-02-08T08:25:41.635Z"
   },
   {
    "duration": 4,
    "start_time": "2022-02-08T08:25:41.644Z"
   },
   {
    "duration": 8,
    "start_time": "2022-02-08T08:25:41.649Z"
   },
   {
    "duration": 6,
    "start_time": "2022-02-08T08:25:41.658Z"
   },
   {
    "duration": 420,
    "start_time": "2022-02-08T08:25:41.666Z"
   },
   {
    "duration": 102,
    "start_time": "2022-02-08T08:25:41.986Z"
   },
   {
    "duration": 85,
    "start_time": "2022-02-08T08:25:42.004Z"
   },
   {
    "duration": 72,
    "start_time": "2022-02-08T08:25:42.018Z"
   },
   {
    "duration": 67,
    "start_time": "2022-02-08T08:25:42.024Z"
   },
   {
    "duration": 50,
    "start_time": "2022-02-08T08:25:42.042Z"
   },
   {
    "duration": 32,
    "start_time": "2022-02-08T08:25:42.061Z"
   },
   {
    "duration": 5,
    "start_time": "2022-02-08T08:25:47.440Z"
   },
   {
    "duration": 14,
    "start_time": "2022-02-08T08:25:50.575Z"
   },
   {
    "duration": 8,
    "start_time": "2022-02-08T08:25:51.423Z"
   },
   {
    "duration": 35,
    "start_time": "2022-02-08T08:25:53.045Z"
   },
   {
    "duration": 1003,
    "start_time": "2022-02-08T08:25:54.625Z"
   },
   {
    "duration": 4,
    "start_time": "2022-02-08T09:17:00.965Z"
   },
   {
    "duration": 10,
    "start_time": "2022-02-08T09:17:01.649Z"
   },
   {
    "duration": 5,
    "start_time": "2022-02-08T09:57:16.870Z"
   },
   {
    "duration": 1322,
    "start_time": "2022-02-08T09:57:19.780Z"
   },
   {
    "duration": 31,
    "start_time": "2022-02-08T09:57:21.650Z"
   },
   {
    "duration": 13,
    "start_time": "2022-02-08T09:57:34.058Z"
   },
   {
    "duration": 11,
    "start_time": "2022-02-08T09:58:01.596Z"
   },
   {
    "duration": 88,
    "start_time": "2022-02-08T09:58:09.165Z"
   },
   {
    "duration": 208,
    "start_time": "2022-02-08T09:58:14.871Z"
   },
   {
    "duration": 94,
    "start_time": "2022-02-08T09:59:22.682Z"
   },
   {
    "duration": 9,
    "start_time": "2022-02-08T09:59:36.284Z"
   },
   {
    "duration": 7,
    "start_time": "2022-02-08T09:59:44.917Z"
   },
   {
    "duration": 98,
    "start_time": "2022-02-08T09:59:57.379Z"
   },
   {
    "duration": 96,
    "start_time": "2022-02-08T10:00:02.132Z"
   },
   {
    "duration": 86,
    "start_time": "2022-02-08T10:00:09.151Z"
   },
   {
    "duration": 89,
    "start_time": "2022-02-08T10:00:24.739Z"
   },
   {
    "duration": 109,
    "start_time": "2022-02-08T10:00:47.453Z"
   },
   {
    "duration": 8,
    "start_time": "2022-02-08T10:15:46.994Z"
   },
   {
    "duration": 6,
    "start_time": "2022-02-08T10:18:59.041Z"
   },
   {
    "duration": 5,
    "start_time": "2022-02-08T10:19:21.037Z"
   },
   {
    "duration": 8,
    "start_time": "2022-02-08T10:20:06.680Z"
   },
   {
    "duration": 365,
    "start_time": "2022-02-08T10:22:56.896Z"
   },
   {
    "duration": 14,
    "start_time": "2022-02-08T13:36:23.819Z"
   },
   {
    "duration": 211,
    "start_time": "2022-02-08T16:08:23.751Z"
   },
   {
    "duration": 53,
    "start_time": "2022-02-08T16:11:35.266Z"
   },
   {
    "duration": 10,
    "start_time": "2022-02-08T16:11:53.394Z"
   },
   {
    "duration": 10,
    "start_time": "2022-02-08T16:12:40.621Z"
   },
   {
    "duration": 99,
    "start_time": "2022-02-08T16:15:53.862Z"
   },
   {
    "duration": 9,
    "start_time": "2022-02-08T16:15:56.874Z"
   },
   {
    "duration": 12,
    "start_time": "2022-02-08T16:16:39.046Z"
   },
   {
    "duration": 89,
    "start_time": "2022-02-08T16:18:42.069Z"
   },
   {
    "duration": 8,
    "start_time": "2022-02-08T16:18:51.326Z"
   },
   {
    "duration": 13,
    "start_time": "2022-02-08T17:46:24.832Z"
   },
   {
    "duration": 14,
    "start_time": "2022-02-08T17:46:29.042Z"
   },
   {
    "duration": 11,
    "start_time": "2022-02-08T17:46:35.396Z"
   },
   {
    "duration": 10,
    "start_time": "2022-02-08T17:46:51.107Z"
   },
   {
    "duration": 4,
    "start_time": "2022-02-08T17:56:39.813Z"
   },
   {
    "duration": 256,
    "start_time": "2022-02-08T17:56:40.398Z"
   },
   {
    "duration": 9,
    "start_time": "2022-02-08T17:56:45.228Z"
   },
   {
    "duration": 15,
    "start_time": "2022-02-08T18:02:25.807Z"
   },
   {
    "duration": 275,
    "start_time": "2022-02-08T18:16:52.626Z"
   },
   {
    "duration": 83,
    "start_time": "2022-02-08T18:17:27.719Z"
   },
   {
    "duration": 88,
    "start_time": "2022-02-08T18:18:19.700Z"
   },
   {
    "duration": 94,
    "start_time": "2022-02-08T18:18:37.777Z"
   },
   {
    "duration": 277,
    "start_time": "2022-02-08T18:18:44.993Z"
   },
   {
    "duration": 91,
    "start_time": "2022-02-08T18:20:43.064Z"
   },
   {
    "duration": 9,
    "start_time": "2022-02-08T18:20:47.159Z"
   },
   {
    "duration": 13,
    "start_time": "2022-02-08T18:20:59.277Z"
   },
   {
    "duration": 2439,
    "start_time": "2022-02-08T18:21:38.785Z"
   },
   {
    "duration": 11,
    "start_time": "2022-02-08T18:21:45.182Z"
   },
   {
    "duration": 7,
    "start_time": "2022-02-08T18:22:58.495Z"
   },
   {
    "duration": 9,
    "start_time": "2022-02-08T18:23:00.985Z"
   },
   {
    "duration": 9,
    "start_time": "2022-02-08T18:54:49.546Z"
   },
   {
    "duration": 23,
    "start_time": "2022-02-08T18:55:19.560Z"
   },
   {
    "duration": 285,
    "start_time": "2022-02-14T12:25:00.243Z"
   },
   {
    "duration": 1256,
    "start_time": "2022-02-14T12:25:09.437Z"
   },
   {
    "duration": 25,
    "start_time": "2022-02-14T12:25:12.470Z"
   },
   {
    "duration": 368,
    "start_time": "2022-02-14T12:25:13.214Z"
   },
   {
    "duration": 4,
    "start_time": "2022-02-14T12:25:16.314Z"
   },
   {
    "duration": 23,
    "start_time": "2022-02-14T12:25:21.479Z"
   },
   {
    "duration": 14,
    "start_time": "2022-02-14T12:25:23.724Z"
   },
   {
    "duration": 3,
    "start_time": "2022-02-14T12:25:25.649Z"
   },
   {
    "duration": 14,
    "start_time": "2022-02-14T12:25:26.331Z"
   },
   {
    "duration": 8,
    "start_time": "2022-02-14T12:25:28.992Z"
   },
   {
    "duration": 10,
    "start_time": "2022-02-14T12:25:30.845Z"
   },
   {
    "duration": 11,
    "start_time": "2022-02-14T12:25:31.859Z"
   },
   {
    "duration": 82,
    "start_time": "2022-02-14T12:25:33.114Z"
   },
   {
    "duration": 7,
    "start_time": "2022-02-14T12:25:33.946Z"
   },
   {
    "duration": 9,
    "start_time": "2022-02-14T12:25:34.514Z"
   },
   {
    "duration": 21,
    "start_time": "2022-02-14T12:25:38.125Z"
   },
   {
    "duration": 14,
    "start_time": "2022-02-14T12:27:23.550Z"
   },
   {
    "duration": 13,
    "start_time": "2022-02-14T12:27:29.032Z"
   },
   {
    "duration": 408,
    "start_time": "2022-02-14T12:40:25.303Z"
   },
   {
    "duration": 9,
    "start_time": "2022-02-14T12:40:34.480Z"
   },
   {
    "duration": 12,
    "start_time": "2022-02-14T12:40:35.868Z"
   },
   {
    "duration": 4,
    "start_time": "2022-02-14T12:40:37.072Z"
   },
   {
    "duration": 4,
    "start_time": "2022-02-14T12:40:39.726Z"
   },
   {
    "duration": 7,
    "start_time": "2022-02-14T12:40:40.791Z"
   },
   {
    "duration": 5,
    "start_time": "2022-02-14T12:40:41.696Z"
   },
   {
    "duration": 4,
    "start_time": "2022-02-14T12:40:42.342Z"
   },
   {
    "duration": 4,
    "start_time": "2022-02-14T12:40:43.110Z"
   },
   {
    "duration": 253,
    "start_time": "2022-02-14T12:40:45.363Z"
   },
   {
    "duration": 4,
    "start_time": "2022-02-14T12:40:54.163Z"
   },
   {
    "duration": 15,
    "start_time": "2022-02-14T12:40:56.044Z"
   },
   {
    "duration": 9,
    "start_time": "2022-02-14T12:40:56.637Z"
   },
   {
    "duration": 12,
    "start_time": "2022-02-14T12:41:04.238Z"
   },
   {
    "duration": 31,
    "start_time": "2022-02-14T12:41:05.951Z"
   },
   {
    "duration": 36,
    "start_time": "2022-02-14T12:41:13.647Z"
   },
   {
    "duration": 1362,
    "start_time": "2022-02-15T14:42:29.099Z"
   },
   {
    "duration": 26,
    "start_time": "2022-02-15T14:42:30.515Z"
   },
   {
    "duration": 11,
    "start_time": "2022-02-15T14:42:31.689Z"
   },
   {
    "duration": 15,
    "start_time": "2022-02-15T14:42:33.061Z"
   },
   {
    "duration": 16,
    "start_time": "2022-02-15T14:42:34.511Z"
   },
   {
    "duration": 4,
    "start_time": "2022-02-15T14:42:35.759Z"
   },
   {
    "duration": 16,
    "start_time": "2022-02-15T14:42:36.988Z"
   },
   {
    "duration": 7,
    "start_time": "2022-02-15T14:42:38.188Z"
   },
   {
    "duration": 9,
    "start_time": "2022-02-15T14:42:39.456Z"
   },
   {
    "duration": 11,
    "start_time": "2022-02-15T14:42:40.280Z"
   },
   {
    "duration": 82,
    "start_time": "2022-02-15T14:42:43.928Z"
   },
   {
    "duration": 7,
    "start_time": "2022-02-15T14:42:44.689Z"
   },
   {
    "duration": 11,
    "start_time": "2022-02-15T14:42:45.408Z"
   },
   {
    "duration": 5,
    "start_time": "2022-02-15T14:51:38.187Z"
   },
   {
    "duration": 14,
    "start_time": "2022-02-15T14:51:44.693Z"
   },
   {
    "duration": 8,
    "start_time": "2022-02-15T14:51:45.608Z"
   },
   {
    "duration": 363,
    "start_time": "2022-02-15T14:51:54.612Z"
   },
   {
    "duration": 31,
    "start_time": "2022-02-15T14:52:06.356Z"
   },
   {
    "duration": 32,
    "start_time": "2022-02-15T14:58:34.120Z"
   },
   {
    "duration": 36,
    "start_time": "2022-02-15T14:58:36.744Z"
   },
   {
    "duration": 8,
    "start_time": "2022-02-15T15:05:49.602Z"
   },
   {
    "duration": 82,
    "start_time": "2022-02-15T15:05:53.614Z"
   },
   {
    "duration": 3,
    "start_time": "2022-02-15T15:05:58.671Z"
   },
   {
    "duration": 5,
    "start_time": "2022-02-15T15:06:00.130Z"
   },
   {
    "duration": 4,
    "start_time": "2022-02-15T15:13:06.290Z"
   },
   {
    "duration": 753,
    "start_time": "2022-02-15T15:13:06.967Z"
   },
   {
    "duration": 10,
    "start_time": "2022-02-15T17:58:47.905Z"
   },
   {
    "duration": 936,
    "start_time": "2022-02-15T18:22:38.532Z"
   },
   {
    "duration": 1026,
    "start_time": "2022-02-15T18:22:50.303Z"
   },
   {
    "duration": 726,
    "start_time": "2022-02-15T18:23:00.037Z"
   },
   {
    "duration": 664,
    "start_time": "2022-02-15T18:38:54.269Z"
   },
   {
    "duration": 303,
    "start_time": "2022-02-16T07:14:21.969Z"
   },
   {
    "duration": 1713,
    "start_time": "2022-02-16T07:14:40.401Z"
   },
   {
    "duration": 38,
    "start_time": "2022-02-16T07:14:42.117Z"
   },
   {
    "duration": 12,
    "start_time": "2022-02-16T07:14:42.159Z"
   },
   {
    "duration": 24,
    "start_time": "2022-02-16T07:14:42.175Z"
   },
   {
    "duration": 19,
    "start_time": "2022-02-16T07:14:42.202Z"
   },
   {
    "duration": 47,
    "start_time": "2022-02-16T07:14:42.224Z"
   },
   {
    "duration": 23,
    "start_time": "2022-02-16T07:14:42.274Z"
   },
   {
    "duration": 9,
    "start_time": "2022-02-16T07:14:42.300Z"
   },
   {
    "duration": 12,
    "start_time": "2022-02-16T07:14:42.315Z"
   },
   {
    "duration": 50,
    "start_time": "2022-02-16T07:14:42.330Z"
   },
   {
    "duration": 156,
    "start_time": "2022-02-16T07:14:42.382Z"
   },
   {
    "duration": 9,
    "start_time": "2022-02-16T07:14:42.541Z"
   },
   {
    "duration": 23,
    "start_time": "2022-02-16T07:14:42.552Z"
   },
   {
    "duration": 6,
    "start_time": "2022-02-16T07:14:42.578Z"
   },
   {
    "duration": 21,
    "start_time": "2022-02-16T07:14:42.587Z"
   },
   {
    "duration": 10,
    "start_time": "2022-02-16T07:14:42.610Z"
   },
   {
    "duration": 80,
    "start_time": "2022-02-16T07:14:42.623Z"
   },
   {
    "duration": 1068,
    "start_time": "2022-02-16T07:14:42.705Z"
   },
   {
    "duration": 11,
    "start_time": "2022-02-16T07:14:46.999Z"
   },
   {
    "duration": 8,
    "start_time": "2022-02-16T07:15:01.808Z"
   },
   {
    "duration": 9,
    "start_time": "2022-02-16T07:15:05.088Z"
   },
   {
    "duration": 8,
    "start_time": "2022-02-16T07:15:05.800Z"
   },
   {
    "duration": 405,
    "start_time": "2022-02-16T10:44:15.794Z"
   },
   {
    "duration": 247,
    "start_time": "2022-02-16T10:44:44.206Z"
   },
   {
    "duration": 261,
    "start_time": "2022-02-16T10:44:58.526Z"
   },
   {
    "duration": 11,
    "start_time": "2022-02-16T10:45:23.628Z"
   },
   {
    "duration": 261,
    "start_time": "2022-02-16T10:46:16.984Z"
   },
   {
    "duration": 266,
    "start_time": "2022-02-16T10:46:36.086Z"
   },
   {
    "duration": 8,
    "start_time": "2022-02-16T10:47:18.518Z"
   },
   {
    "duration": 7,
    "start_time": "2022-02-16T10:47:37.831Z"
   },
   {
    "duration": 8,
    "start_time": "2022-02-16T10:47:38.339Z"
   },
   {
    "duration": 5,
    "start_time": "2022-02-16T10:49:49.101Z"
   },
   {
    "duration": 1072,
    "start_time": "2022-02-16T10:50:38.509Z"
   },
   {
    "duration": 5,
    "start_time": "2022-02-16T10:50:48.883Z"
   },
   {
    "duration": 7,
    "start_time": "2022-02-16T10:50:50.750Z"
   },
   {
    "duration": 316,
    "start_time": "2022-02-16T10:51:00.514Z"
   },
   {
    "duration": 333,
    "start_time": "2022-02-16T10:57:36.833Z"
   },
   {
    "duration": 1146,
    "start_time": "2022-02-16T10:57:53.126Z"
   },
   {
    "duration": 1021,
    "start_time": "2022-02-16T14:01:58.459Z"
   },
   {
    "duration": 6,
    "start_time": "2022-02-16T14:02:46.595Z"
   },
   {
    "duration": 1077,
    "start_time": "2022-02-16T14:02:53.495Z"
   },
   {
    "duration": 301,
    "start_time": "2022-02-16T14:03:32.811Z"
   },
   {
    "duration": 431,
    "start_time": "2022-02-16T14:12:20.544Z"
   },
   {
    "duration": 5,
    "start_time": "2022-02-16T14:12:27.307Z"
   },
   {
    "duration": 292,
    "start_time": "2022-02-16T14:12:32.333Z"
   },
   {
    "duration": 5,
    "start_time": "2022-02-16T14:12:43.331Z"
   },
   {
    "duration": 7,
    "start_time": "2022-02-16T14:12:49.671Z"
   },
   {
    "duration": 9,
    "start_time": "2022-02-16T14:14:55.148Z"
   },
   {
    "duration": 348,
    "start_time": "2022-02-16T14:15:49.055Z"
   },
   {
    "duration": 8,
    "start_time": "2022-02-17T06:47:58.400Z"
   },
   {
    "duration": 285,
    "start_time": "2022-02-17T06:48:09.246Z"
   },
   {
    "duration": 9,
    "start_time": "2022-02-17T06:48:26.669Z"
   },
   {
    "duration": 36,
    "start_time": "2022-02-17T06:48:26.682Z"
   },
   {
    "duration": 11,
    "start_time": "2022-02-17T06:48:26.722Z"
   },
   {
    "duration": 22,
    "start_time": "2022-02-17T06:48:26.769Z"
   },
   {
    "duration": 20,
    "start_time": "2022-02-17T06:48:26.795Z"
   },
   {
    "duration": 5,
    "start_time": "2022-02-17T06:48:26.818Z"
   },
   {
    "duration": 49,
    "start_time": "2022-02-17T06:48:26.825Z"
   },
   {
    "duration": 8,
    "start_time": "2022-02-17T06:48:26.876Z"
   },
   {
    "duration": 20,
    "start_time": "2022-02-17T06:48:26.888Z"
   },
   {
    "duration": 12,
    "start_time": "2022-02-17T06:48:26.910Z"
   },
   {
    "duration": 172,
    "start_time": "2022-02-17T06:48:26.924Z"
   },
   {
    "duration": 9,
    "start_time": "2022-02-17T06:48:27.099Z"
   },
   {
    "duration": 17,
    "start_time": "2022-02-17T06:48:27.110Z"
   },
   {
    "duration": 8,
    "start_time": "2022-02-17T06:48:27.130Z"
   },
   {
    "duration": 45,
    "start_time": "2022-02-17T06:48:27.140Z"
   },
   {
    "duration": 12,
    "start_time": "2022-02-17T06:48:27.187Z"
   },
   {
    "duration": 70,
    "start_time": "2022-02-17T06:48:27.202Z"
   },
   {
    "duration": 1097,
    "start_time": "2022-02-17T06:48:27.275Z"
   },
   {
    "duration": 99,
    "start_time": "2022-02-17T06:48:28.376Z"
   },
   {
    "duration": 1095,
    "start_time": "2022-02-17T06:48:28.478Z"
   },
   {
    "duration": 269,
    "start_time": "2022-02-17T09:06:50.473Z"
   },
   {
    "duration": 9,
    "start_time": "2022-02-17T09:06:57.533Z"
   },
   {
    "duration": 316,
    "start_time": "2022-02-17T09:07:12.178Z"
   },
   {
    "duration": 9,
    "start_time": "2022-02-17T09:07:22.129Z"
   },
   {
    "duration": 40,
    "start_time": "2022-02-17T09:07:22.141Z"
   },
   {
    "duration": 12,
    "start_time": "2022-02-17T09:07:22.184Z"
   },
   {
    "duration": 21,
    "start_time": "2022-02-17T09:07:22.199Z"
   },
   {
    "duration": 19,
    "start_time": "2022-02-17T09:07:22.222Z"
   },
   {
    "duration": 5,
    "start_time": "2022-02-17T09:07:22.270Z"
   },
   {
    "duration": 15,
    "start_time": "2022-02-17T09:07:22.277Z"
   },
   {
    "duration": 12,
    "start_time": "2022-02-17T09:07:22.295Z"
   },
   {
    "duration": 10,
    "start_time": "2022-02-17T09:07:22.310Z"
   },
   {
    "duration": 57,
    "start_time": "2022-02-17T09:07:22.324Z"
   },
   {
    "duration": 250,
    "start_time": "2022-02-17T09:07:22.384Z"
   },
   {
    "duration": 11,
    "start_time": "2022-02-17T09:07:22.638Z"
   },
   {
    "duration": 27,
    "start_time": "2022-02-17T09:07:22.652Z"
   },
   {
    "duration": 6,
    "start_time": "2022-02-17T09:07:22.681Z"
   },
   {
    "duration": 25,
    "start_time": "2022-02-17T09:07:22.690Z"
   },
   {
    "duration": 10,
    "start_time": "2022-02-17T09:07:22.718Z"
   },
   {
    "duration": 77,
    "start_time": "2022-02-17T09:07:22.731Z"
   },
   {
    "duration": 1176,
    "start_time": "2022-02-17T09:07:22.810Z"
   },
   {
    "duration": 100,
    "start_time": "2022-02-17T09:07:24.071Z"
   },
   {
    "duration": 1205,
    "start_time": "2022-02-17T09:07:24.174Z"
   },
   {
    "duration": 1065,
    "start_time": "2022-02-17T09:18:16.080Z"
   },
   {
    "duration": 287,
    "start_time": "2022-02-17T09:18:17.228Z"
   },
   {
    "duration": 11,
    "start_time": "2022-02-17T09:18:44.039Z"
   },
   {
    "duration": 121,
    "start_time": "2022-02-17T09:18:54.795Z"
   },
   {
    "duration": 19,
    "start_time": "2022-02-17T09:19:00.850Z"
   },
   {
    "duration": 50,
    "start_time": "2022-02-17T09:54:19.455Z"
   },
   {
    "duration": 19,
    "start_time": "2022-02-17T10:18:20.152Z"
   },
   {
    "duration": 973,
    "start_time": "2022-02-17T10:26:02.036Z"
   },
   {
    "duration": 971,
    "start_time": "2022-02-17T10:26:12.991Z"
   },
   {
    "duration": 19,
    "start_time": "2022-02-17T10:42:16.417Z"
   },
   {
    "duration": 82,
    "start_time": "2022-02-17T10:53:50.778Z"
   },
   {
    "duration": 46,
    "start_time": "2022-02-17T10:53:58.391Z"
   },
   {
    "duration": 317,
    "start_time": "2022-02-17T11:16:25.999Z"
   },
   {
    "duration": 1608,
    "start_time": "2022-02-17T11:16:31.381Z"
   },
   {
    "duration": 37,
    "start_time": "2022-02-17T11:16:32.992Z"
   },
   {
    "duration": 14,
    "start_time": "2022-02-17T11:16:33.033Z"
   },
   {
    "duration": 32,
    "start_time": "2022-02-17T11:16:33.051Z"
   },
   {
    "duration": 48,
    "start_time": "2022-02-17T11:16:33.086Z"
   },
   {
    "duration": 6,
    "start_time": "2022-02-17T11:16:33.137Z"
   },
   {
    "duration": 30,
    "start_time": "2022-02-17T11:16:33.147Z"
   },
   {
    "duration": 10,
    "start_time": "2022-02-17T11:16:33.179Z"
   },
   {
    "duration": 39,
    "start_time": "2022-02-17T11:16:33.194Z"
   },
   {
    "duration": 16,
    "start_time": "2022-02-17T11:16:33.236Z"
   },
   {
    "duration": 1266,
    "start_time": "2022-02-17T11:16:35.239Z"
   },
   {
    "duration": 10,
    "start_time": "2022-02-17T11:17:01.672Z"
   },
   {
    "duration": 480,
    "start_time": "2022-02-17T11:17:09.841Z"
   },
   {
    "duration": 13,
    "start_time": "2022-02-17T11:17:13.492Z"
   },
   {
    "duration": 11,
    "start_time": "2022-02-17T11:17:15.252Z"
   },
   {
    "duration": 9,
    "start_time": "2022-02-17T11:17:16.373Z"
   },
   {
    "duration": 8,
    "start_time": "2022-02-17T11:17:29.636Z"
   },
   {
    "duration": 29,
    "start_time": "2022-02-17T11:17:30.133Z"
   },
   {
    "duration": 15,
    "start_time": "2022-02-17T11:17:30.599Z"
   },
   {
    "duration": 51,
    "start_time": "2022-02-17T11:17:32.558Z"
   },
   {
    "duration": 1133,
    "start_time": "2022-02-17T11:17:34.099Z"
   },
   {
    "duration": 9,
    "start_time": "2022-02-17T11:17:39.520Z"
   },
   {
    "duration": 1142,
    "start_time": "2022-02-17T11:17:41.685Z"
   },
   {
    "duration": 7,
    "start_time": "2022-02-17T11:17:45.653Z"
   },
   {
    "duration": 50,
    "start_time": "2022-02-17T11:17:49.318Z"
   },
   {
    "duration": 18,
    "start_time": "2022-02-17T11:17:51.149Z"
   },
   {
    "duration": 1110,
    "start_time": "2022-02-17T11:17:53.244Z"
   },
   {
    "duration": 19,
    "start_time": "2022-02-17T11:17:56.493Z"
   },
   {
    "duration": 168,
    "start_time": "2022-02-17T11:17:58.860Z"
   },
   {
    "duration": 64,
    "start_time": "2022-02-17T11:24:07.890Z"
   },
   {
    "duration": 49,
    "start_time": "2022-02-17T11:25:27.387Z"
   },
   {
    "duration": 617,
    "start_time": "2022-02-17T11:33:50.909Z"
   },
   {
    "duration": 18,
    "start_time": "2022-02-17T11:33:54.223Z"
   },
   {
    "duration": 230,
    "start_time": "2022-02-17T11:34:03.090Z"
   },
   {
    "duration": 22,
    "start_time": "2022-02-17T11:34:04.184Z"
   },
   {
    "duration": 169,
    "start_time": "2022-02-17T11:34:07.591Z"
   },
   {
    "duration": 23,
    "start_time": "2022-02-17T11:34:08.283Z"
   },
   {
    "duration": 455,
    "start_time": "2022-02-17T12:11:12.699Z"
   },
   {
    "duration": 404,
    "start_time": "2022-02-17T12:11:36.378Z"
   },
   {
    "duration": 19,
    "start_time": "2022-02-17T12:11:38.001Z"
   },
   {
    "duration": 1766,
    "start_time": "2022-02-17T12:12:17.213Z"
   },
   {
    "duration": 33,
    "start_time": "2022-02-17T12:12:18.982Z"
   },
   {
    "duration": 20,
    "start_time": "2022-02-17T12:12:19.018Z"
   },
   {
    "duration": 30,
    "start_time": "2022-02-17T12:12:19.041Z"
   },
   {
    "duration": 56,
    "start_time": "2022-02-17T12:12:19.074Z"
   },
   {
    "duration": 7,
    "start_time": "2022-02-17T12:12:19.133Z"
   },
   {
    "duration": 19,
    "start_time": "2022-02-17T12:12:19.143Z"
   },
   {
    "duration": 11,
    "start_time": "2022-02-17T12:12:19.169Z"
   },
   {
    "duration": 52,
    "start_time": "2022-02-17T12:12:19.184Z"
   },
   {
    "duration": 16,
    "start_time": "2022-02-17T12:12:19.239Z"
   },
   {
    "duration": 869,
    "start_time": "2022-02-17T12:12:19.258Z"
   },
   {
    "duration": 230,
    "start_time": "2022-02-17T12:12:20.130Z"
   },
   {
    "duration": 11,
    "start_time": "2022-02-17T12:12:20.363Z"
   },
   {
    "duration": 19,
    "start_time": "2022-02-17T12:12:20.378Z"
   },
   {
    "duration": 30,
    "start_time": "2022-02-17T12:12:20.400Z"
   },
   {
    "duration": 33,
    "start_time": "2022-02-17T12:12:20.434Z"
   },
   {
    "duration": 15,
    "start_time": "2022-02-17T12:12:20.470Z"
   },
   {
    "duration": 72,
    "start_time": "2022-02-17T12:12:20.487Z"
   },
   {
    "duration": 683,
    "start_time": "2022-02-17T12:12:20.562Z"
   },
   {
    "duration": 90,
    "start_time": "2022-02-17T12:12:21.248Z"
   },
   {
    "duration": 686,
    "start_time": "2022-02-17T12:12:21.342Z"
   },
   {
    "duration": 11,
    "start_time": "2022-02-17T12:12:22.031Z"
   },
   {
    "duration": 123,
    "start_time": "2022-02-17T12:12:22.046Z"
   },
   {
    "duration": 19,
    "start_time": "2022-02-17T12:12:23.859Z"
   },
   {
    "duration": 402,
    "start_time": "2022-02-17T12:12:29.577Z"
   },
   {
    "duration": 19,
    "start_time": "2022-02-17T12:12:31.754Z"
   },
   {
    "duration": 506,
    "start_time": "2022-02-17T12:18:32.928Z"
   },
   {
    "duration": 9,
    "start_time": "2022-02-17T12:18:38.758Z"
   },
   {
    "duration": 68,
    "start_time": "2022-02-17T12:18:42.349Z"
   },
   {
    "duration": 22,
    "start_time": "2022-02-17T12:18:44.580Z"
   },
   {
    "duration": 562,
    "start_time": "2022-02-17T12:18:48.713Z"
   },
   {
    "duration": 23,
    "start_time": "2022-02-17T12:18:50.422Z"
   },
   {
    "duration": 78,
    "start_time": "2022-02-17T12:19:18.450Z"
   },
   {
    "duration": 17,
    "start_time": "2022-02-17T12:19:25.164Z"
   },
   {
    "duration": 93,
    "start_time": "2022-02-17T12:50:40.767Z"
   },
   {
    "duration": 677,
    "start_time": "2022-02-17T12:50:44.597Z"
   },
   {
    "duration": 11,
    "start_time": "2022-02-17T12:51:02.921Z"
   },
   {
    "duration": 21,
    "start_time": "2022-02-17T12:51:07.926Z"
   },
   {
    "duration": 8,
    "start_time": "2022-02-17T12:51:17.159Z"
   },
   {
    "duration": 8,
    "start_time": "2022-02-17T12:51:24.779Z"
   },
   {
    "duration": 21,
    "start_time": "2022-02-17T12:51:30.656Z"
   },
   {
    "duration": 9,
    "start_time": "2022-02-17T12:51:31.239Z"
   },
   {
    "duration": 19,
    "start_time": "2022-02-17T12:51:34.196Z"
   },
   {
    "duration": 9,
    "start_time": "2022-02-17T12:51:34.776Z"
   },
   {
    "duration": 23,
    "start_time": "2022-02-17T12:51:37.415Z"
   },
   {
    "duration": 11,
    "start_time": "2022-02-17T12:51:38.513Z"
   },
   {
    "duration": 6,
    "start_time": "2022-02-17T12:51:59.982Z"
   },
   {
    "duration": 6,
    "start_time": "2022-02-17T12:52:09.187Z"
   },
   {
    "duration": 5,
    "start_time": "2022-02-17T12:52:11.230Z"
   },
   {
    "duration": 661,
    "start_time": "2022-02-17T13:14:00.294Z"
   },
   {
    "duration": 508,
    "start_time": "2022-02-17T13:14:03.433Z"
   },
   {
    "duration": 63,
    "start_time": "2022-02-17T13:17:51.381Z"
   },
   {
    "duration": 19,
    "start_time": "2022-02-17T13:17:58.836Z"
   },
   {
    "duration": 613,
    "start_time": "2022-02-17T13:19:14.214Z"
   },
   {
    "duration": 25,
    "start_time": "2022-02-17T13:19:18.425Z"
   },
   {
    "duration": 175,
    "start_time": "2022-02-17T13:21:29.669Z"
   },
   {
    "duration": 17,
    "start_time": "2022-02-17T13:21:31.857Z"
   },
   {
    "duration": 137,
    "start_time": "2022-02-17T13:54:53.719Z"
   },
   {
    "duration": 315,
    "start_time": "2022-02-18T11:21:37.363Z"
   },
   {
    "duration": 1141,
    "start_time": "2022-02-18T11:21:52.174Z"
   },
   {
    "duration": 39,
    "start_time": "2022-02-18T11:21:53.317Z"
   },
   {
    "duration": 9,
    "start_time": "2022-02-18T11:21:53.358Z"
   },
   {
    "duration": 14,
    "start_time": "2022-02-18T11:21:53.368Z"
   },
   {
    "duration": 13,
    "start_time": "2022-02-18T11:21:53.384Z"
   },
   {
    "duration": 3,
    "start_time": "2022-02-18T11:21:53.398Z"
   },
   {
    "duration": 10,
    "start_time": "2022-02-18T11:21:53.403Z"
   },
   {
    "duration": 32,
    "start_time": "2022-02-18T11:21:53.416Z"
   },
   {
    "duration": 9,
    "start_time": "2022-02-18T11:21:53.450Z"
   },
   {
    "duration": 8,
    "start_time": "2022-02-18T11:21:53.461Z"
   },
   {
    "duration": 348,
    "start_time": "2022-02-18T11:21:53.471Z"
   },
   {
    "duration": 102,
    "start_time": "2022-02-18T11:21:53.821Z"
   },
   {
    "duration": 6,
    "start_time": "2022-02-18T11:21:53.925Z"
   },
   {
    "duration": 16,
    "start_time": "2022-02-18T11:21:53.933Z"
   },
   {
    "duration": 4,
    "start_time": "2022-02-18T11:21:53.951Z"
   },
   {
    "duration": 13,
    "start_time": "2022-02-18T11:21:53.957Z"
   },
   {
    "duration": 8,
    "start_time": "2022-02-18T11:21:53.971Z"
   },
   {
    "duration": 27,
    "start_time": "2022-02-18T11:21:53.980Z"
   },
   {
    "duration": 346,
    "start_time": "2022-02-18T11:21:54.008Z"
   },
   {
    "duration": 97,
    "start_time": "2022-02-18T11:21:54.356Z"
   },
   {
    "duration": 397,
    "start_time": "2022-02-18T11:21:54.458Z"
   },
   {
    "duration": 90,
    "start_time": "2022-02-18T11:21:54.857Z"
   },
   {
    "duration": 129,
    "start_time": "2022-02-18T11:21:54.952Z"
   },
   {
    "duration": 10,
    "start_time": "2022-02-18T11:21:55.083Z"
   },
   {
    "duration": 243,
    "start_time": "2022-02-18T11:21:55.095Z"
   },
   {
    "duration": 11,
    "start_time": "2022-02-18T11:21:55.346Z"
   },
   {
    "duration": 96,
    "start_time": "2022-02-18T11:21:55.359Z"
   },
   {
    "duration": 96,
    "start_time": "2022-02-18T11:21:55.457Z"
   },
   {
    "duration": 12,
    "start_time": "2022-02-18T11:21:55.554Z"
   },
   {
    "duration": 5,
    "start_time": "2022-02-18T11:21:55.568Z"
   },
   {
    "duration": 7,
    "start_time": "2022-02-18T11:21:55.575Z"
   },
   {
    "duration": 5,
    "start_time": "2022-02-18T11:21:55.583Z"
   },
   {
    "duration": 296,
    "start_time": "2022-02-18T11:21:55.589Z"
   },
   {
    "duration": 181,
    "start_time": "2022-02-18T11:21:55.945Z"
   },
   {
    "duration": -462,
    "start_time": "2022-02-18T11:21:56.589Z"
   },
   {
    "duration": -464,
    "start_time": "2022-02-18T11:21:56.593Z"
   },
   {
    "duration": -467,
    "start_time": "2022-02-18T11:21:56.596Z"
   },
   {
    "duration": -471,
    "start_time": "2022-02-18T11:21:56.601Z"
   },
   {
    "duration": -473,
    "start_time": "2022-02-18T11:21:56.604Z"
   },
   {
    "duration": -475,
    "start_time": "2022-02-18T11:21:56.607Z"
   },
   {
    "duration": -477,
    "start_time": "2022-02-18T11:21:56.610Z"
   },
   {
    "duration": 406,
    "start_time": "2022-02-18T11:22:09.543Z"
   },
   {
    "duration": 38,
    "start_time": "2022-02-18T11:22:11.485Z"
   },
   {
    "duration": 11,
    "start_time": "2022-02-18T11:22:11.717Z"
   },
   {
    "duration": 339,
    "start_time": "2022-02-18T11:22:12.316Z"
   },
   {
    "duration": 11,
    "start_time": "2022-02-18T11:22:13.197Z"
   },
   {
    "duration": 99,
    "start_time": "2022-02-18T11:22:14.148Z"
   },
   {
    "duration": 10,
    "start_time": "2022-02-18T11:22:14.543Z"
   },
   {
    "duration": 379,
    "start_time": "2022-02-18T11:22:19.732Z"
   },
   {
    "duration": 275,
    "start_time": "2022-02-18T11:22:34.196Z"
   },
   {
    "duration": 314,
    "start_time": "2022-02-18T11:23:36.967Z"
   },
   {
    "duration": 301,
    "start_time": "2022-02-18T11:23:42.105Z"
   },
   {
    "duration": 301,
    "start_time": "2022-02-18T11:23:50.875Z"
   },
   {
    "duration": 285,
    "start_time": "2022-02-18T11:23:55.418Z"
   },
   {
    "duration": 290,
    "start_time": "2022-02-18T11:25:07.077Z"
   },
   {
    "duration": 288,
    "start_time": "2022-02-18T11:25:20.908Z"
   },
   {
    "duration": 278,
    "start_time": "2022-02-18T11:25:27.337Z"
   },
   {
    "duration": 309,
    "start_time": "2022-02-18T11:25:46.196Z"
   },
   {
    "duration": 289,
    "start_time": "2022-02-18T11:26:36.679Z"
   },
   {
    "duration": 334,
    "start_time": "2022-02-18T11:27:51.002Z"
   },
   {
    "duration": 354,
    "start_time": "2022-02-18T11:27:56.461Z"
   },
   {
    "duration": 398,
    "start_time": "2022-02-18T11:29:49.712Z"
   },
   {
    "duration": 315,
    "start_time": "2022-02-18T11:29:57.759Z"
   },
   {
    "duration": 73728,
    "start_time": "2022-02-18T11:30:14.121Z"
   },
   {
    "duration": 59727,
    "start_time": "2022-02-18T11:31:30.470Z"
   },
   {
    "duration": 83407,
    "start_time": "2022-02-18T11:42:28.705Z"
   },
   {
    "duration": 285911,
    "start_time": "2022-02-18T11:43:55.187Z"
   },
   {
    "duration": 131,
    "start_time": "2022-02-18T11:57:39.377Z"
   },
   {
    "duration": 148445,
    "start_time": "2022-02-18T11:57:46.685Z"
   },
   {
    "duration": 143921,
    "start_time": "2022-02-18T12:50:54.045Z"
   },
   {
    "duration": 88807,
    "start_time": "2022-02-18T12:53:48.776Z"
   },
   {
    "duration": 94745,
    "start_time": "2022-02-18T12:55:59.906Z"
   },
   {
    "duration": 99528,
    "start_time": "2022-02-18T12:57:42.937Z"
   },
   {
    "duration": 306,
    "start_time": "2022-02-18T13:40:02.828Z"
   },
   {
    "duration": 303,
    "start_time": "2022-02-18T13:48:45.470Z"
   },
   {
    "duration": 565,
    "start_time": "2022-02-18T13:49:43.093Z"
   },
   {
    "duration": 685,
    "start_time": "2022-02-18T13:49:55.988Z"
   },
   {
    "duration": 570,
    "start_time": "2022-02-18T13:50:19.570Z"
   },
   {
    "duration": 722,
    "start_time": "2022-02-18T13:50:41.792Z"
   },
   {
    "duration": 874,
    "start_time": "2022-02-18T13:51:35.647Z"
   },
   {
    "duration": 322,
    "start_time": "2022-02-18T13:51:53.152Z"
   },
   {
    "duration": 321,
    "start_time": "2022-02-18T13:52:04.130Z"
   },
   {
    "duration": 5,
    "start_time": "2022-02-18T14:44:53.593Z"
   },
   {
    "duration": 333,
    "start_time": "2022-02-18T14:45:51.868Z"
   },
   {
    "duration": 1147,
    "start_time": "2022-02-18T15:04:18.869Z"
   },
   {
    "duration": 38,
    "start_time": "2022-02-18T15:04:20.018Z"
   },
   {
    "duration": 7,
    "start_time": "2022-02-18T15:04:20.058Z"
   },
   {
    "duration": 18,
    "start_time": "2022-02-18T15:04:20.067Z"
   },
   {
    "duration": 67,
    "start_time": "2022-02-18T15:04:20.086Z"
   },
   {
    "duration": 4,
    "start_time": "2022-02-18T15:04:20.154Z"
   },
   {
    "duration": 11,
    "start_time": "2022-02-18T15:04:20.160Z"
   },
   {
    "duration": 5,
    "start_time": "2022-02-18T15:04:20.173Z"
   },
   {
    "duration": 7,
    "start_time": "2022-02-18T15:04:20.180Z"
   },
   {
    "duration": 9,
    "start_time": "2022-02-18T15:04:20.189Z"
   },
   {
    "duration": 278,
    "start_time": "2022-02-18T15:04:20.199Z"
   },
   {
    "duration": 86,
    "start_time": "2022-02-18T15:04:20.479Z"
   },
   {
    "duration": 6,
    "start_time": "2022-02-18T15:04:20.567Z"
   },
   {
    "duration": 16,
    "start_time": "2022-02-18T15:04:20.575Z"
   },
   {
    "duration": 3,
    "start_time": "2022-02-18T15:04:20.593Z"
   },
   {
    "duration": 19,
    "start_time": "2022-02-18T15:04:20.598Z"
   },
   {
    "duration": 7,
    "start_time": "2022-02-18T15:04:20.619Z"
   },
   {
    "duration": 45,
    "start_time": "2022-02-18T15:04:20.627Z"
   },
   {
    "duration": 302,
    "start_time": "2022-02-18T15:04:20.673Z"
   },
   {
    "duration": 170,
    "start_time": "2022-02-18T15:04:20.976Z"
   },
   {
    "duration": 343,
    "start_time": "2022-02-18T15:04:21.148Z"
   },
   {
    "duration": 97,
    "start_time": "2022-02-18T15:04:21.549Z"
   },
   {
    "duration": 32,
    "start_time": "2022-02-18T15:04:21.649Z"
   },
   {
    "duration": 12,
    "start_time": "2022-02-18T15:04:21.683Z"
   },
   {
    "duration": 260,
    "start_time": "2022-02-18T15:04:21.696Z"
   },
   {
    "duration": 10,
    "start_time": "2022-02-18T15:04:21.958Z"
   },
   {
    "duration": 79,
    "start_time": "2022-02-18T15:04:21.969Z"
   },
   {
    "duration": 102,
    "start_time": "2022-02-18T15:04:22.050Z"
   },
   {
    "duration": 14,
    "start_time": "2022-02-18T15:04:22.153Z"
   },
   {
    "duration": 5,
    "start_time": "2022-02-18T15:04:22.169Z"
   },
   {
    "duration": 6,
    "start_time": "2022-02-18T15:04:22.176Z"
   },
   {
    "duration": 8,
    "start_time": "2022-02-18T15:04:22.183Z"
   },
   {
    "duration": 353,
    "start_time": "2022-02-18T15:04:22.192Z"
   },
   {
    "duration": 508,
    "start_time": "2022-02-18T15:04:22.548Z"
   },
   {
    "duration": 129,
    "start_time": "2022-02-18T15:04:23.146Z"
   },
   {
    "duration": 10,
    "start_time": "2022-02-18T15:04:23.277Z"
   },
   {
    "duration": 437,
    "start_time": "2022-02-18T15:04:23.288Z"
   },
   {
    "duration": 21,
    "start_time": "2022-02-18T15:04:23.727Z"
   },
   {
    "duration": 28,
    "start_time": "2022-02-18T15:04:23.749Z"
   },
   {
    "duration": 102,
    "start_time": "2022-02-18T15:04:23.845Z"
   },
   {
    "duration": 38914,
    "start_time": "2022-02-18T15:04:23.949Z"
   },
   {
    "duration": 346,
    "start_time": "2022-02-18T15:05:02.864Z"
   },
   {
    "duration": 5,
    "start_time": "2022-02-18T15:05:03.212Z"
   },
   {
    "duration": 1312,
    "start_time": "2022-02-18T16:15:08.375Z"
   },
   {
    "duration": 29,
    "start_time": "2022-02-18T16:15:09.688Z"
   },
   {
    "duration": 9,
    "start_time": "2022-02-18T16:15:09.719Z"
   },
   {
    "duration": 23,
    "start_time": "2022-02-18T16:15:09.730Z"
   },
   {
    "duration": 11,
    "start_time": "2022-02-18T16:15:09.754Z"
   },
   {
    "duration": 3,
    "start_time": "2022-02-18T16:15:09.767Z"
   },
   {
    "duration": 10,
    "start_time": "2022-02-18T16:15:09.771Z"
   },
   {
    "duration": 12,
    "start_time": "2022-02-18T16:15:09.782Z"
   },
   {
    "duration": 7,
    "start_time": "2022-02-18T16:15:09.797Z"
   },
   {
    "duration": 8,
    "start_time": "2022-02-18T16:15:09.805Z"
   },
   {
    "duration": 287,
    "start_time": "2022-02-18T16:15:09.814Z"
   },
   {
    "duration": 78,
    "start_time": "2022-02-18T16:15:10.103Z"
   },
   {
    "duration": 7,
    "start_time": "2022-02-18T16:15:10.182Z"
   },
   {
    "duration": 6,
    "start_time": "2022-02-18T16:15:10.191Z"
   },
   {
    "duration": 17,
    "start_time": "2022-02-18T16:15:10.199Z"
   },
   {
    "duration": 7,
    "start_time": "2022-02-18T16:15:10.218Z"
   },
   {
    "duration": 44,
    "start_time": "2022-02-18T16:15:10.226Z"
   },
   {
    "duration": 286,
    "start_time": "2022-02-18T16:15:10.272Z"
   },
   {
    "duration": 186,
    "start_time": "2022-02-18T16:15:10.560Z"
   },
   {
    "duration": 303,
    "start_time": "2022-02-18T16:15:10.748Z"
   },
   {
    "duration": 97,
    "start_time": "2022-02-18T16:15:11.053Z"
   },
   {
    "duration": 132,
    "start_time": "2022-02-18T16:15:11.152Z"
   },
   {
    "duration": 10,
    "start_time": "2022-02-18T16:15:11.286Z"
   },
   {
    "duration": 350,
    "start_time": "2022-02-18T16:15:11.297Z"
   },
   {
    "duration": 10,
    "start_time": "2022-02-18T16:15:11.650Z"
   },
   {
    "duration": 85,
    "start_time": "2022-02-18T16:15:11.662Z"
   },
   {
    "duration": 102,
    "start_time": "2022-02-18T16:15:11.752Z"
   },
   {
    "duration": 11,
    "start_time": "2022-02-18T16:15:11.856Z"
   },
   {
    "duration": 5,
    "start_time": "2022-02-18T16:15:11.868Z"
   },
   {
    "duration": 6,
    "start_time": "2022-02-18T16:15:11.875Z"
   },
   {
    "duration": 4,
    "start_time": "2022-02-18T16:15:11.882Z"
   },
   {
    "duration": 302,
    "start_time": "2022-02-18T16:15:11.887Z"
   },
   {
    "duration": 556,
    "start_time": "2022-02-18T16:15:12.191Z"
   },
   {
    "duration": 224,
    "start_time": "2022-02-18T16:15:12.749Z"
   },
   {
    "duration": 9,
    "start_time": "2022-02-18T16:15:12.974Z"
   },
   {
    "duration": 351,
    "start_time": "2022-02-18T16:15:12.985Z"
   },
   {
    "duration": 14,
    "start_time": "2022-02-18T16:15:13.338Z"
   },
   {
    "duration": 95,
    "start_time": "2022-02-18T16:15:13.353Z"
   },
   {
    "duration": 100,
    "start_time": "2022-02-18T16:15:13.451Z"
   },
   {
    "duration": 39422,
    "start_time": "2022-02-18T16:15:13.553Z"
   },
   {
    "duration": 345,
    "start_time": "2022-02-18T16:15:52.977Z"
   },
   {
    "duration": 6,
    "start_time": "2022-02-18T16:15:53.324Z"
   },
   {
    "duration": 1378,
    "start_time": "2022-02-21T14:54:03.658Z"
   },
   {
    "duration": 31,
    "start_time": "2022-02-21T14:54:05.038Z"
   },
   {
    "duration": 11,
    "start_time": "2022-02-21T14:54:06.302Z"
   },
   {
    "duration": 18,
    "start_time": "2022-02-21T14:54:07.114Z"
   },
   {
    "duration": 13,
    "start_time": "2022-02-21T14:54:10.655Z"
   },
   {
    "duration": 1257,
    "start_time": "2022-02-21T16:58:57.006Z"
   },
   {
    "duration": 31,
    "start_time": "2022-02-21T16:59:01.373Z"
   },
   {
    "duration": 10,
    "start_time": "2022-02-21T16:59:02.201Z"
   },
   {
    "duration": 18,
    "start_time": "2022-02-21T16:59:04.707Z"
   },
   {
    "duration": 13,
    "start_time": "2022-02-21T16:59:07.646Z"
   },
   {
    "duration": 3,
    "start_time": "2022-02-21T16:59:08.744Z"
   },
   {
    "duration": 11,
    "start_time": "2022-02-21T16:59:09.796Z"
   },
   {
    "duration": 6,
    "start_time": "2022-02-21T17:00:09.124Z"
   },
   {
    "duration": 760,
    "start_time": "2022-02-21T17:05:47.590Z"
   },
   {
    "duration": 40,
    "start_time": "2022-02-21T17:06:17.308Z"
   },
   {
    "duration": 7,
    "start_time": "2022-02-21T17:08:29.714Z"
   },
   {
    "duration": 9,
    "start_time": "2022-02-21T17:08:40.809Z"
   },
   {
    "duration": 376,
    "start_time": "2022-02-21T17:15:17.657Z"
   },
   {
    "duration": 7,
    "start_time": "2022-02-21T17:15:22.573Z"
   },
   {
    "duration": 6,
    "start_time": "2022-02-21T17:26:21.987Z"
   },
   {
    "duration": 51,
    "start_time": "2022-02-21T17:26:21.995Z"
   },
   {
    "duration": 12,
    "start_time": "2022-02-21T17:26:22.049Z"
   },
   {
    "duration": 13,
    "start_time": "2022-02-21T17:26:22.064Z"
   },
   {
    "duration": 14,
    "start_time": "2022-02-21T17:26:22.079Z"
   },
   {
    "duration": 3,
    "start_time": "2022-02-21T17:26:22.095Z"
   },
   {
    "duration": 11,
    "start_time": "2022-02-21T17:26:22.100Z"
   },
   {
    "duration": 7,
    "start_time": "2022-02-21T17:26:22.114Z"
   },
   {
    "duration": 9,
    "start_time": "2022-02-21T17:26:22.122Z"
   },
   {
    "duration": 2,
    "start_time": "2022-02-21T17:26:22.133Z"
   },
   {
    "duration": 7,
    "start_time": "2022-02-21T17:26:22.169Z"
   },
   {
    "duration": 4,
    "start_time": "2022-02-21T17:26:22.178Z"
   },
   {
    "duration": 17,
    "start_time": "2022-02-21T17:26:22.184Z"
   },
   {
    "duration": 8,
    "start_time": "2022-02-21T17:26:22.202Z"
   },
   {
    "duration": 69,
    "start_time": "2022-02-21T17:26:22.213Z"
   },
   {
    "duration": 390,
    "start_time": "2022-02-21T17:26:22.285Z"
   },
   {
    "duration": 92,
    "start_time": "2022-02-21T17:26:22.679Z"
   },
   {
    "duration": 398,
    "start_time": "2022-02-21T17:26:22.772Z"
   },
   {
    "duration": 97,
    "start_time": "2022-02-21T17:26:23.173Z"
   },
   {
    "duration": 289,
    "start_time": "2022-02-21T17:26:27.096Z"
   },
   {
    "duration": 320,
    "start_time": "2022-02-21T17:26:35.749Z"
   },
   {
    "duration": 41,
    "start_time": "2022-02-21T17:26:46.834Z"
   },
   {
    "duration": 13,
    "start_time": "2022-02-21T17:26:53.156Z"
   },
   {
    "duration": 284,
    "start_time": "2022-02-21T17:29:57.150Z"
   },
   {
    "duration": 12,
    "start_time": "2022-02-21T17:29:59.320Z"
   },
   {
    "duration": 290,
    "start_time": "2022-02-21T17:30:23.182Z"
   },
   {
    "duration": 12,
    "start_time": "2022-02-21T17:30:23.965Z"
   },
   {
    "duration": 106,
    "start_time": "2022-02-21T17:35:49.065Z"
   },
   {
    "duration": 12,
    "start_time": "2022-02-21T17:35:50.566Z"
   },
   {
    "duration": 15,
    "start_time": "2022-02-21T17:37:15.455Z"
   },
   {
    "duration": 6,
    "start_time": "2022-02-21T17:37:16.420Z"
   },
   {
    "duration": 4,
    "start_time": "2022-02-21T17:37:16.885Z"
   },
   {
    "duration": 5,
    "start_time": "2022-02-21T17:37:17.780Z"
   },
   {
    "duration": 403,
    "start_time": "2022-02-21T17:37:47.265Z"
   },
   {
    "duration": 481,
    "start_time": "2022-02-21T17:37:49.519Z"
   },
   {
    "duration": 49,
    "start_time": "2022-02-21T17:37:56.234Z"
   },
   {
    "duration": 12,
    "start_time": "2022-02-21T17:40:47.670Z"
   },
   {
    "duration": 416,
    "start_time": "2022-02-21T17:48:03.841Z"
   },
   {
    "duration": 14,
    "start_time": "2022-02-21T17:48:05.172Z"
   },
   {
    "duration": 85,
    "start_time": "2022-02-21T17:48:49.686Z"
   },
   {
    "duration": 12,
    "start_time": "2022-02-21T17:48:51.071Z"
   },
   {
    "duration": 45141,
    "start_time": "2022-02-21T17:49:14.833Z"
   },
   {
    "duration": 371,
    "start_time": "2022-02-22T07:04:57.763Z"
   },
   {
    "duration": 1303,
    "start_time": "2022-02-22T07:05:03.665Z"
   },
   {
    "duration": 28,
    "start_time": "2022-02-22T07:05:04.970Z"
   },
   {
    "duration": 12,
    "start_time": "2022-02-22T07:05:05.001Z"
   },
   {
    "duration": 18,
    "start_time": "2022-02-22T07:05:05.016Z"
   },
   {
    "duration": 14,
    "start_time": "2022-02-22T07:05:05.037Z"
   },
   {
    "duration": 5,
    "start_time": "2022-02-22T07:05:05.053Z"
   },
   {
    "duration": 49,
    "start_time": "2022-02-22T07:05:05.060Z"
   },
   {
    "duration": 7,
    "start_time": "2022-02-22T07:05:05.111Z"
   },
   {
    "duration": 22,
    "start_time": "2022-02-22T07:05:05.122Z"
   },
   {
    "duration": 10,
    "start_time": "2022-02-22T07:05:05.146Z"
   },
   {
    "duration": 25,
    "start_time": "2022-02-22T07:05:05.158Z"
   },
   {
    "duration": 8,
    "start_time": "2022-02-22T07:05:05.185Z"
   },
   {
    "duration": 44,
    "start_time": "2022-02-22T07:05:05.195Z"
   },
   {
    "duration": 25,
    "start_time": "2022-02-22T07:05:05.241Z"
   },
   {
    "duration": 35,
    "start_time": "2022-02-22T07:05:05.269Z"
   },
   {
    "duration": 345,
    "start_time": "2022-02-22T07:05:05.306Z"
   },
   {
    "duration": 60,
    "start_time": "2022-02-22T07:05:05.653Z"
   },
   {
    "duration": 493,
    "start_time": "2022-02-22T07:05:05.716Z"
   },
   {
    "duration": 97,
    "start_time": "2022-02-22T07:05:06.213Z"
   },
   {
    "duration": 42,
    "start_time": "2022-02-22T07:05:06.312Z"
   },
   {
    "duration": 13,
    "start_time": "2022-02-22T07:05:06.356Z"
   },
   {
    "duration": 338,
    "start_time": "2022-02-22T07:05:06.371Z"
   },
   {
    "duration": 12,
    "start_time": "2022-02-22T07:05:06.711Z"
   },
   {
    "duration": 85,
    "start_time": "2022-02-22T07:05:06.725Z"
   },
   {
    "duration": 104,
    "start_time": "2022-02-22T07:05:06.814Z"
   },
   {
    "duration": 16,
    "start_time": "2022-02-22T07:05:06.920Z"
   },
   {
    "duration": 7,
    "start_time": "2022-02-22T07:05:06.939Z"
   },
   {
    "duration": 6,
    "start_time": "2022-02-22T07:05:06.948Z"
   },
   {
    "duration": 13,
    "start_time": "2022-02-22T07:05:06.956Z"
   },
   {
    "duration": 375,
    "start_time": "2022-02-22T07:05:06.971Z"
   },
   {
    "duration": 597,
    "start_time": "2022-02-22T07:05:07.413Z"
   },
   {
    "duration": 204,
    "start_time": "2022-02-22T07:05:08.012Z"
   },
   {
    "duration": 11,
    "start_time": "2022-02-22T07:05:08.218Z"
   },
   {
    "duration": 454,
    "start_time": "2022-02-22T07:05:08.231Z"
   },
   {
    "duration": 26,
    "start_time": "2022-02-22T07:05:08.688Z"
   },
   {
    "duration": 94,
    "start_time": "2022-02-22T07:05:08.716Z"
   },
   {
    "duration": 101,
    "start_time": "2022-02-22T07:05:08.814Z"
   },
   {
    "duration": 45862,
    "start_time": "2022-02-22T07:05:08.918Z"
   },
   {
    "duration": 5,
    "start_time": "2022-02-22T07:42:34.978Z"
   },
   {
    "duration": 4636,
    "start_time": "2022-02-22T07:43:05.883Z"
   },
   {
    "duration": 4321,
    "start_time": "2022-02-22T07:43:23.044Z"
   },
   {
    "duration": 8,
    "start_time": "2022-02-22T07:43:31.581Z"
   },
   {
    "duration": 7,
    "start_time": "2022-02-22T07:43:47.730Z"
   },
   {
    "duration": 7,
    "start_time": "2022-02-22T07:43:57.052Z"
   },
   {
    "duration": 7,
    "start_time": "2022-02-22T09:52:55.281Z"
   },
   {
    "duration": 11,
    "start_time": "2022-02-22T09:52:56.897Z"
   },
   {
    "duration": 7,
    "start_time": "2022-02-22T09:53:12.964Z"
   },
   {
    "duration": 47,
    "start_time": "2022-02-22T09:58:13.704Z"
   },
   {
    "duration": 8,
    "start_time": "2022-02-22T09:59:32.139Z"
   },
   {
    "duration": 293,
    "start_time": "2022-02-22T09:59:44.357Z"
   },
   {
    "duration": 3,
    "start_time": "2022-02-22T09:59:46.796Z"
   },
   {
    "duration": 4,
    "start_time": "2022-02-22T09:59:55.147Z"
   },
   {
    "duration": 5,
    "start_time": "2022-02-22T10:00:01.892Z"
   },
   {
    "duration": 5,
    "start_time": "2022-02-22T10:00:31.461Z"
   },
   {
    "duration": 5,
    "start_time": "2022-02-22T10:00:42.508Z"
   },
   {
    "duration": 532,
    "start_time": "2022-02-22T10:05:20.468Z"
   },
   {
    "duration": 7,
    "start_time": "2022-02-22T10:06:10.178Z"
   },
   {
    "duration": 612,
    "start_time": "2022-02-22T10:06:56.989Z"
   },
   {
    "duration": 1335,
    "start_time": "2022-02-22T10:21:59.837Z"
   },
   {
    "duration": 27,
    "start_time": "2022-02-22T10:22:01.175Z"
   },
   {
    "duration": 12,
    "start_time": "2022-02-22T10:22:01.204Z"
   },
   {
    "duration": 33,
    "start_time": "2022-02-22T10:22:01.220Z"
   },
   {
    "duration": 13,
    "start_time": "2022-02-22T10:22:01.255Z"
   },
   {
    "duration": 4,
    "start_time": "2022-02-22T10:22:01.270Z"
   },
   {
    "duration": 16,
    "start_time": "2022-02-22T10:22:01.276Z"
   },
   {
    "duration": 24,
    "start_time": "2022-02-22T10:22:01.294Z"
   },
   {
    "duration": 11,
    "start_time": "2022-02-22T10:22:01.326Z"
   },
   {
    "duration": 12,
    "start_time": "2022-02-22T10:22:01.340Z"
   },
   {
    "duration": 19,
    "start_time": "2022-02-22T10:22:01.354Z"
   },
   {
    "duration": 15,
    "start_time": "2022-02-22T10:22:01.375Z"
   },
   {
    "duration": 41,
    "start_time": "2022-02-22T10:22:01.393Z"
   },
   {
    "duration": 46,
    "start_time": "2022-02-22T10:22:01.436Z"
   },
   {
    "duration": 56,
    "start_time": "2022-02-22T10:22:01.484Z"
   },
   {
    "duration": 388,
    "start_time": "2022-02-22T10:22:01.542Z"
   },
   {
    "duration": 114,
    "start_time": "2022-02-22T10:22:02.008Z"
   },
   {
    "duration": 489,
    "start_time": "2022-02-22T10:22:02.124Z"
   },
   {
    "duration": 14,
    "start_time": "2022-02-22T10:22:02.615Z"
   },
   {
    "duration": 68,
    "start_time": "2022-02-22T10:22:02.708Z"
   },
   {
    "duration": 13,
    "start_time": "2022-02-22T10:22:02.778Z"
   },
   {
    "duration": 349,
    "start_time": "2022-02-22T10:22:02.793Z"
   },
   {
    "duration": 14,
    "start_time": "2022-02-22T10:22:03.144Z"
   },
   {
    "duration": 66,
    "start_time": "2022-02-22T10:22:03.159Z"
   },
   {
    "duration": 125,
    "start_time": "2022-02-22T10:22:03.308Z"
   },
   {
    "duration": 27,
    "start_time": "2022-02-22T10:22:03.435Z"
   },
   {
    "duration": 13,
    "start_time": "2022-02-22T10:22:03.466Z"
   },
   {
    "duration": 54,
    "start_time": "2022-02-22T10:22:03.481Z"
   },
   {
    "duration": 22,
    "start_time": "2022-02-22T10:22:03.537Z"
   },
   {
    "duration": 454,
    "start_time": "2022-02-22T10:22:03.561Z"
   },
   {
    "duration": 702,
    "start_time": "2022-02-22T10:22:04.018Z"
   },
   {
    "duration": 217,
    "start_time": "2022-02-22T10:22:04.725Z"
   },
   {
    "duration": 12,
    "start_time": "2022-02-22T10:22:04.944Z"
   },
   {
    "duration": 519,
    "start_time": "2022-02-22T10:22:04.958Z"
   },
   {
    "duration": 32,
    "start_time": "2022-02-22T10:22:05.479Z"
   },
   {
    "duration": 97,
    "start_time": "2022-02-22T10:22:05.513Z"
   },
   {
    "duration": 18,
    "start_time": "2022-02-22T10:22:05.611Z"
   },
   {
    "duration": 49716,
    "start_time": "2022-02-22T10:22:05.707Z"
   },
   {
    "duration": 10,
    "start_time": "2022-02-22T10:22:55.426Z"
   },
   {
    "duration": 24,
    "start_time": "2022-02-22T10:22:55.438Z"
   },
   {
    "duration": 9,
    "start_time": "2022-02-22T10:22:55.465Z"
   },
   {
    "duration": 7,
    "start_time": "2022-02-22T10:22:55.476Z"
   },
   {
    "duration": 23,
    "start_time": "2022-02-22T10:22:55.485Z"
   },
   {
    "duration": 26,
    "start_time": "2022-02-22T10:22:55.511Z"
   },
   {
    "duration": 7,
    "start_time": "2022-02-22T10:22:55.539Z"
   },
   {
    "duration": 8,
    "start_time": "2022-02-22T10:22:55.548Z"
   },
   {
    "duration": 5,
    "start_time": "2022-02-22T10:22:55.559Z"
   },
   {
    "duration": 867,
    "start_time": "2022-02-22T10:22:55.567Z"
   },
   {
    "duration": 8,
    "start_time": "2022-02-22T10:22:56.436Z"
   },
   {
    "duration": 1223,
    "start_time": "2022-02-22T21:58:55.626Z"
   },
   {
    "duration": 25,
    "start_time": "2022-02-22T21:58:56.851Z"
   },
   {
    "duration": 9,
    "start_time": "2022-02-22T21:58:56.878Z"
   },
   {
    "duration": 15,
    "start_time": "2022-02-22T21:58:56.889Z"
   },
   {
    "duration": 12,
    "start_time": "2022-02-22T21:58:56.919Z"
   },
   {
    "duration": 3,
    "start_time": "2022-02-22T21:58:56.933Z"
   },
   {
    "duration": 16,
    "start_time": "2022-02-22T21:58:56.938Z"
   },
   {
    "duration": 7,
    "start_time": "2022-02-22T21:58:56.957Z"
   },
   {
    "duration": 10,
    "start_time": "2022-02-22T21:58:56.966Z"
   },
   {
    "duration": 2,
    "start_time": "2022-02-22T21:58:56.977Z"
   },
   {
    "duration": 48,
    "start_time": "2022-02-22T21:58:56.981Z"
   },
   {
    "duration": 5,
    "start_time": "2022-02-22T21:58:57.031Z"
   },
   {
    "duration": 18,
    "start_time": "2022-02-22T21:58:57.039Z"
   },
   {
    "duration": 9,
    "start_time": "2022-02-22T21:58:57.059Z"
   },
   {
    "duration": 55,
    "start_time": "2022-02-22T21:58:57.071Z"
   },
   {
    "duration": 328,
    "start_time": "2022-02-22T21:58:57.128Z"
   },
   {
    "duration": 68,
    "start_time": "2022-02-22T21:58:57.459Z"
   },
   {
    "duration": 325,
    "start_time": "2022-02-22T21:58:57.618Z"
   },
   {
    "duration": 76,
    "start_time": "2022-02-22T21:58:57.945Z"
   },
   {
    "duration": 132,
    "start_time": "2022-02-22T21:58:58.024Z"
   },
   {
    "duration": 11,
    "start_time": "2022-02-22T21:58:58.158Z"
   },
   {
    "duration": 300,
    "start_time": "2022-02-22T21:58:58.170Z"
   },
   {
    "duration": 12,
    "start_time": "2022-02-22T21:58:58.474Z"
   },
   {
    "duration": 43,
    "start_time": "2022-02-22T21:58:58.488Z"
   },
   {
    "duration": 100,
    "start_time": "2022-02-22T21:58:58.620Z"
   },
   {
    "duration": 14,
    "start_time": "2022-02-22T21:58:58.722Z"
   },
   {
    "duration": 5,
    "start_time": "2022-02-22T21:58:58.738Z"
   },
   {
    "duration": 5,
    "start_time": "2022-02-22T21:58:58.745Z"
   },
   {
    "duration": 6,
    "start_time": "2022-02-22T21:58:58.752Z"
   },
   {
    "duration": 361,
    "start_time": "2022-02-22T21:58:58.759Z"
   },
   {
    "duration": 647,
    "start_time": "2022-02-22T21:58:59.123Z"
   },
   {
    "duration": 136,
    "start_time": "2022-02-22T21:58:59.820Z"
   },
   {
    "duration": 14,
    "start_time": "2022-02-22T21:58:59.958Z"
   },
   {
    "duration": 455,
    "start_time": "2022-02-22T21:58:59.974Z"
   },
   {
    "duration": 11,
    "start_time": "2022-02-22T21:59:00.431Z"
   },
   {
    "duration": 174,
    "start_time": "2022-02-22T21:59:00.444Z"
   },
   {
    "duration": 14,
    "start_time": "2022-02-22T21:59:00.621Z"
   },
   {
    "duration": 42222,
    "start_time": "2022-02-22T21:59:00.638Z"
   },
   {
    "duration": 7,
    "start_time": "2022-02-22T21:59:42.862Z"
   },
   {
    "duration": 11,
    "start_time": "2022-02-22T21:59:42.871Z"
   },
   {
    "duration": 35,
    "start_time": "2022-02-22T21:59:42.883Z"
   },
   {
    "duration": 4,
    "start_time": "2022-02-22T21:59:42.920Z"
   },
   {
    "duration": 7,
    "start_time": "2022-02-22T21:59:42.926Z"
   },
   {
    "duration": 18,
    "start_time": "2022-02-22T21:59:42.934Z"
   },
   {
    "duration": 9,
    "start_time": "2022-02-22T21:59:42.953Z"
   },
   {
    "duration": 7,
    "start_time": "2022-02-22T21:59:42.964Z"
   },
   {
    "duration": 7,
    "start_time": "2022-02-22T21:59:42.972Z"
   },
   {
    "duration": 618,
    "start_time": "2022-02-22T21:59:42.981Z"
   },
   {
    "duration": 5,
    "start_time": "2022-02-22T21:59:43.601Z"
   },
   {
    "duration": 214,
    "start_time": "2022-02-23T06:55:22.686Z"
   },
   {
    "duration": 1172,
    "start_time": "2022-02-23T06:55:29.653Z"
   },
   {
    "duration": 28,
    "start_time": "2022-02-23T06:55:30.827Z"
   },
   {
    "duration": 9,
    "start_time": "2022-02-23T06:55:30.857Z"
   },
   {
    "duration": 21,
    "start_time": "2022-02-23T06:55:30.868Z"
   },
   {
    "duration": 25,
    "start_time": "2022-02-23T06:55:30.891Z"
   },
   {
    "duration": 3,
    "start_time": "2022-02-23T06:55:30.917Z"
   },
   {
    "duration": 17,
    "start_time": "2022-02-23T06:55:30.922Z"
   },
   {
    "duration": 6,
    "start_time": "2022-02-23T06:55:30.941Z"
   },
   {
    "duration": 10,
    "start_time": "2022-02-23T06:55:30.950Z"
   },
   {
    "duration": 4,
    "start_time": "2022-02-23T06:55:30.962Z"
   },
   {
    "duration": 11,
    "start_time": "2022-02-23T06:55:30.968Z"
   },
   {
    "duration": 4,
    "start_time": "2022-02-23T06:55:30.981Z"
   },
   {
    "duration": 20,
    "start_time": "2022-02-23T06:55:30.987Z"
   },
   {
    "duration": 22,
    "start_time": "2022-02-23T06:55:31.008Z"
   },
   {
    "duration": 28,
    "start_time": "2022-02-23T06:55:31.032Z"
   },
   {
    "duration": 367,
    "start_time": "2022-02-23T06:55:31.062Z"
   },
   {
    "duration": 99,
    "start_time": "2022-02-23T06:55:31.432Z"
   },
   {
    "duration": 304,
    "start_time": "2022-02-23T06:55:31.533Z"
   },
   {
    "duration": 96,
    "start_time": "2022-02-23T06:55:31.840Z"
   },
   {
    "duration": 130,
    "start_time": "2022-02-23T06:55:31.939Z"
   },
   {
    "duration": 11,
    "start_time": "2022-02-23T06:55:32.071Z"
   },
   {
    "duration": 279,
    "start_time": "2022-02-23T06:55:32.084Z"
   },
   {
    "duration": 11,
    "start_time": "2022-02-23T06:55:32.364Z"
   },
   {
    "duration": 64,
    "start_time": "2022-02-23T06:55:32.377Z"
   },
   {
    "duration": 17,
    "start_time": "2022-02-23T06:55:32.531Z"
   },
   {
    "duration": 83,
    "start_time": "2022-02-23T06:55:32.550Z"
   },
   {
    "duration": 6,
    "start_time": "2022-02-23T06:55:32.636Z"
   },
   {
    "duration": 7,
    "start_time": "2022-02-23T06:55:32.643Z"
   },
   {
    "duration": 5,
    "start_time": "2022-02-23T06:55:32.652Z"
   },
   {
    "duration": 309,
    "start_time": "2022-02-23T06:55:32.658Z"
   },
   {
    "duration": 504,
    "start_time": "2022-02-23T06:55:33.030Z"
   },
   {
    "duration": 224,
    "start_time": "2022-02-23T06:55:33.536Z"
   },
   {
    "duration": 12,
    "start_time": "2022-02-23T06:55:33.762Z"
   },
   {
    "duration": 394,
    "start_time": "2022-02-23T06:55:33.776Z"
   },
   {
    "duration": 12,
    "start_time": "2022-02-23T06:55:34.172Z"
   },
   {
    "duration": 51,
    "start_time": "2022-02-23T06:55:34.186Z"
   },
   {
    "duration": 194,
    "start_time": "2022-02-23T06:55:34.240Z"
   },
   {
    "duration": 39643,
    "start_time": "2022-02-23T06:55:34.436Z"
   },
   {
    "duration": 6,
    "start_time": "2022-02-23T06:56:14.080Z"
   },
   {
    "duration": 13,
    "start_time": "2022-02-23T06:56:14.088Z"
   },
   {
    "duration": 7,
    "start_time": "2022-02-23T06:56:14.103Z"
   },
   {
    "duration": 21,
    "start_time": "2022-02-23T06:56:14.112Z"
   },
   {
    "duration": 4,
    "start_time": "2022-02-23T06:56:14.135Z"
   },
   {
    "duration": 5,
    "start_time": "2022-02-23T06:56:14.141Z"
   },
   {
    "duration": 3,
    "start_time": "2022-02-23T06:56:14.148Z"
   },
   {
    "duration": 7,
    "start_time": "2022-02-23T06:56:14.152Z"
   },
   {
    "duration": 5,
    "start_time": "2022-02-23T06:56:14.160Z"
   },
   {
    "duration": 477,
    "start_time": "2022-02-23T06:56:52.421Z"
   },
   {
    "duration": 469,
    "start_time": "2022-02-23T08:32:06.491Z"
   },
   {
    "duration": 471,
    "start_time": "2022-02-23T08:32:15.369Z"
   },
   {
    "duration": 472,
    "start_time": "2022-02-23T08:33:47.449Z"
   },
   {
    "duration": 37853,
    "start_time": "2022-02-23T10:04:42.925Z"
   },
   {
    "duration": 467,
    "start_time": "2022-02-23T10:10:11.947Z"
   },
   {
    "duration": 1200,
    "start_time": "2022-02-23T10:20:40.046Z"
   },
   {
    "duration": 24,
    "start_time": "2022-02-23T10:20:41.248Z"
   },
   {
    "duration": 9,
    "start_time": "2022-02-23T10:20:41.274Z"
   },
   {
    "duration": 16,
    "start_time": "2022-02-23T10:20:41.285Z"
   },
   {
    "duration": 31,
    "start_time": "2022-02-23T10:20:41.303Z"
   },
   {
    "duration": 4,
    "start_time": "2022-02-23T10:20:41.336Z"
   },
   {
    "duration": 13,
    "start_time": "2022-02-23T10:20:41.342Z"
   },
   {
    "duration": 6,
    "start_time": "2022-02-23T10:20:41.357Z"
   },
   {
    "duration": 9,
    "start_time": "2022-02-23T10:20:41.366Z"
   },
   {
    "duration": 2,
    "start_time": "2022-02-23T10:20:41.377Z"
   },
   {
    "duration": 13,
    "start_time": "2022-02-23T10:20:41.381Z"
   },
   {
    "duration": 4,
    "start_time": "2022-02-23T10:20:41.396Z"
   },
   {
    "duration": 41,
    "start_time": "2022-02-23T10:20:41.401Z"
   },
   {
    "duration": 7,
    "start_time": "2022-02-23T10:20:41.444Z"
   },
   {
    "duration": 31,
    "start_time": "2022-02-23T10:20:41.453Z"
   },
   {
    "duration": 443,
    "start_time": "2022-02-23T10:20:41.487Z"
   },
   {
    "duration": 6,
    "start_time": "2022-02-23T10:20:41.932Z"
   },
   {
    "duration": 319,
    "start_time": "2022-02-23T10:20:41.940Z"
   },
   {
    "duration": 9,
    "start_time": "2022-02-23T10:20:42.329Z"
   },
   {
    "duration": 125,
    "start_time": "2022-02-23T10:20:42.340Z"
   },
   {
    "duration": 14,
    "start_time": "2022-02-23T10:20:42.468Z"
   },
   {
    "duration": 290,
    "start_time": "2022-02-23T10:20:42.483Z"
   },
   {
    "duration": 13,
    "start_time": "2022-02-23T10:20:42.775Z"
   },
   {
    "duration": 51,
    "start_time": "2022-02-23T10:20:42.790Z"
   },
   {
    "duration": 102,
    "start_time": "2022-02-23T10:20:42.932Z"
   },
   {
    "duration": 13,
    "start_time": "2022-02-23T10:20:43.036Z"
   },
   {
    "duration": 5,
    "start_time": "2022-02-23T10:20:43.052Z"
   },
   {
    "duration": 6,
    "start_time": "2022-02-23T10:20:43.059Z"
   },
   {
    "duration": 7,
    "start_time": "2022-02-23T10:20:43.067Z"
   },
   {
    "duration": 456,
    "start_time": "2022-02-23T10:20:43.076Z"
   },
   {
    "duration": 497,
    "start_time": "2022-02-23T10:20:43.534Z"
   },
   {
    "duration": 136,
    "start_time": "2022-02-23T10:20:44.033Z"
   },
   {
    "duration": 13,
    "start_time": "2022-02-23T10:20:44.170Z"
   },
   {
    "duration": 403,
    "start_time": "2022-02-23T10:20:44.184Z"
   },
   {
    "duration": 13,
    "start_time": "2022-02-23T10:20:44.589Z"
   },
   {
    "duration": 127,
    "start_time": "2022-02-23T10:20:44.603Z"
   },
   {
    "duration": 100,
    "start_time": "2022-02-23T10:20:44.733Z"
   },
   {
    "duration": 37000,
    "start_time": "2022-02-23T10:20:44.835Z"
   },
   {
    "duration": 6,
    "start_time": "2022-02-23T10:21:21.836Z"
   },
   {
    "duration": 10,
    "start_time": "2022-02-23T10:21:21.844Z"
   },
   {
    "duration": 6,
    "start_time": "2022-02-23T10:21:21.856Z"
   },
   {
    "duration": 5,
    "start_time": "2022-02-23T10:21:21.864Z"
   },
   {
    "duration": 4,
    "start_time": "2022-02-23T10:21:21.871Z"
   },
   {
    "duration": 5,
    "start_time": "2022-02-23T10:21:21.877Z"
   },
   {
    "duration": 4,
    "start_time": "2022-02-23T10:21:21.884Z"
   },
   {
    "duration": 43,
    "start_time": "2022-02-23T10:21:21.889Z"
   },
   {
    "duration": 6,
    "start_time": "2022-02-23T10:21:21.934Z"
   },
   {
    "duration": 497,
    "start_time": "2022-02-23T10:21:21.941Z"
   },
   {
    "duration": 5,
    "start_time": "2022-02-23T10:21:22.440Z"
   },
   {
    "duration": 1374,
    "start_time": "2022-02-23T18:49:47.520Z"
   },
   {
    "duration": 33,
    "start_time": "2022-02-23T18:49:48.896Z"
   },
   {
    "duration": 11,
    "start_time": "2022-02-23T18:49:48.931Z"
   },
   {
    "duration": 18,
    "start_time": "2022-02-23T18:49:48.945Z"
   },
   {
    "duration": 14,
    "start_time": "2022-02-23T18:49:48.965Z"
   },
   {
    "duration": 4,
    "start_time": "2022-02-23T18:49:48.981Z"
   },
   {
    "duration": 11,
    "start_time": "2022-02-23T18:49:48.988Z"
   },
   {
    "duration": 8,
    "start_time": "2022-02-23T18:49:49.003Z"
   },
   {
    "duration": 10,
    "start_time": "2022-02-23T18:49:49.013Z"
   },
   {
    "duration": 2,
    "start_time": "2022-02-23T18:49:49.025Z"
   },
   {
    "duration": 8,
    "start_time": "2022-02-23T18:49:49.070Z"
   },
   {
    "duration": 5,
    "start_time": "2022-02-23T18:49:49.080Z"
   },
   {
    "duration": 18,
    "start_time": "2022-02-23T18:49:49.087Z"
   },
   {
    "duration": 10,
    "start_time": "2022-02-23T18:49:49.107Z"
   },
   {
    "duration": 66,
    "start_time": "2022-02-23T18:49:49.119Z"
   },
   {
    "duration": 384,
    "start_time": "2022-02-23T18:49:49.187Z"
   },
   {
    "duration": 100,
    "start_time": "2022-02-23T18:49:49.573Z"
   },
   {
    "duration": 398,
    "start_time": "2022-02-23T18:49:49.674Z"
   },
   {
    "duration": 97,
    "start_time": "2022-02-23T18:49:50.075Z"
   },
   {
    "duration": 38,
    "start_time": "2022-02-23T18:49:50.174Z"
   },
   {
    "duration": 12,
    "start_time": "2022-02-23T18:49:50.214Z"
   },
   {
    "duration": 342,
    "start_time": "2022-02-23T18:49:50.228Z"
   },
   {
    "duration": 12,
    "start_time": "2022-02-23T18:49:50.574Z"
   },
   {
    "duration": 92,
    "start_time": "2022-02-23T18:49:50.589Z"
   },
   {
    "duration": 104,
    "start_time": "2022-02-23T18:49:50.771Z"
   },
   {
    "duration": 15,
    "start_time": "2022-02-23T18:49:50.877Z"
   },
   {
    "duration": 7,
    "start_time": "2022-02-23T18:49:50.894Z"
   },
   {
    "duration": 13,
    "start_time": "2022-02-23T18:49:50.903Z"
   },
   {
    "duration": 11,
    "start_time": "2022-02-23T18:49:50.918Z"
   },
   {
    "duration": 373,
    "start_time": "2022-02-23T18:49:50.931Z"
   },
   {
    "duration": 665,
    "start_time": "2022-02-23T18:49:51.306Z"
   },
   {
    "duration": 146,
    "start_time": "2022-02-23T18:49:51.974Z"
   },
   {
    "duration": 13,
    "start_time": "2022-02-23T18:49:52.121Z"
   },
   {
    "duration": 439,
    "start_time": "2022-02-23T18:49:52.170Z"
   },
   {
    "duration": 15,
    "start_time": "2022-02-23T18:49:52.611Z"
   },
   {
    "duration": 147,
    "start_time": "2022-02-23T18:49:52.628Z"
   },
   {
    "duration": 98,
    "start_time": "2022-02-23T18:49:52.777Z"
   },
   {
    "duration": 40886,
    "start_time": "2022-02-23T18:49:52.877Z"
   },
   {
    "duration": 7,
    "start_time": "2022-02-23T18:50:33.766Z"
   },
   {
    "duration": 23,
    "start_time": "2022-02-23T18:50:33.775Z"
   },
   {
    "duration": 30,
    "start_time": "2022-02-23T18:50:33.800Z"
   },
   {
    "duration": 23,
    "start_time": "2022-02-23T18:50:33.832Z"
   },
   {
    "duration": 17,
    "start_time": "2022-02-23T18:50:33.857Z"
   },
   {
    "duration": 13,
    "start_time": "2022-02-23T18:50:33.876Z"
   },
   {
    "duration": 29,
    "start_time": "2022-02-23T18:50:33.891Z"
   },
   {
    "duration": 38,
    "start_time": "2022-02-23T18:50:33.922Z"
   },
   {
    "duration": 34,
    "start_time": "2022-02-23T18:50:33.962Z"
   },
   {
    "duration": 581,
    "start_time": "2022-02-23T18:50:33.998Z"
   },
   {
    "duration": 5,
    "start_time": "2022-02-23T18:50:34.581Z"
   },
   {
    "duration": 533,
    "start_time": "2022-02-23T18:58:15.836Z"
   },
   {
    "duration": 570,
    "start_time": "2022-02-23T18:58:26.235Z"
   },
   {
    "duration": 557,
    "start_time": "2022-02-23T18:59:57.248Z"
   },
   {
    "duration": 7,
    "start_time": "2022-02-23T19:30:24.874Z"
   },
   {
    "duration": 6,
    "start_time": "2022-02-23T19:30:40.643Z"
   },
   {
    "duration": 7,
    "start_time": "2022-02-23T19:31:51.106Z"
   },
   {
    "duration": 8,
    "start_time": "2022-02-23T19:32:26.267Z"
   },
   {
    "duration": 1770,
    "start_time": "2022-04-04T19:04:31.867Z"
   },
   {
    "duration": 28,
    "start_time": "2022-04-04T19:04:33.640Z"
   },
   {
    "duration": 11,
    "start_time": "2022-04-04T19:04:33.670Z"
   },
   {
    "duration": 15,
    "start_time": "2022-04-04T19:04:33.682Z"
   },
   {
    "duration": 11,
    "start_time": "2022-04-04T19:04:33.699Z"
   },
   {
    "duration": 3,
    "start_time": "2022-04-04T19:04:33.711Z"
   },
   {
    "duration": 12,
    "start_time": "2022-04-04T19:04:33.716Z"
   },
   {
    "duration": 5,
    "start_time": "2022-04-04T19:04:33.730Z"
   },
   {
    "duration": 7,
    "start_time": "2022-04-04T19:04:33.736Z"
   },
   {
    "duration": 4,
    "start_time": "2022-04-04T19:04:33.745Z"
   },
   {
    "duration": 34,
    "start_time": "2022-04-04T19:04:33.750Z"
   },
   {
    "duration": 6,
    "start_time": "2022-04-04T19:04:33.785Z"
   },
   {
    "duration": 12,
    "start_time": "2022-04-04T19:04:33.793Z"
   },
   {
    "duration": 15,
    "start_time": "2022-04-04T19:04:33.807Z"
   },
   {
    "duration": 28,
    "start_time": "2022-04-04T19:04:33.823Z"
   },
   {
    "duration": 430,
    "start_time": "2022-04-04T19:04:33.852Z"
   },
   {
    "duration": 5,
    "start_time": "2022-04-04T19:04:34.283Z"
   },
   {
    "duration": 303,
    "start_time": "2022-04-04T19:04:34.290Z"
   },
   {
    "duration": 99,
    "start_time": "2022-04-04T19:04:34.681Z"
   },
   {
    "duration": 40,
    "start_time": "2022-04-04T19:04:37.579Z"
   },
   {
    "duration": 37,
    "start_time": "2022-04-04T19:04:51.559Z"
   }
  ],
  "kernelspec": {
   "display_name": "Python 3",
   "language": "python",
   "name": "python3"
  },
  "language_info": {
   "codemirror_mode": {
    "name": "ipython",
    "version": 3
   },
   "file_extension": ".py",
   "mimetype": "text/x-python",
   "name": "python",
   "nbconvert_exporter": "python",
   "pygments_lexer": "ipython3",
   "version": "3.8.5"
  },
  "toc": {
   "base_numbering": 1,
   "nav_menu": {},
   "number_sections": true,
   "sideBar": true,
   "skip_h1_title": true,
   "title_cell": "Содержание",
   "title_sidebar": "Contents",
   "toc_cell": true,
   "toc_position": {
    "height": "calc(100% - 180px)",
    "left": "10px",
    "top": "150px",
    "width": "299.375px"
   },
   "toc_section_display": true,
   "toc_window_display": true
  }
 },
 "nbformat": 4,
 "nbformat_minor": 2
}
